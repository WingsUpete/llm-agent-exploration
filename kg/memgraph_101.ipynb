{
 "cells": [
  {
   "cell_type": "markdown",
   "id": "5a8818ac-3652-47a8-b97b-c89372234d32",
   "metadata": {},
   "source": [
    "# Memgraph Python Intro"
   ]
  },
  {
   "cell_type": "markdown",
   "id": "32ab6c85-a170-4a17-a30f-203dcd216df7",
   "metadata": {},
   "source": [
    "Here we follow this official [documentation page](https://memgraph.com/docs/client-libraries/python) from [Memgraph](https://memgraph.com/) that uses `neo4j` to connect to a Memgraph database inside a docker container."
   ]
  },
  {
   "cell_type": "markdown",
   "id": "9a4121e3-e883-440e-b969-a2798c1e7d33",
   "metadata": {},
   "source": [
    "## Pre-requisites"
   ]
  },
  {
   "cell_type": "markdown",
   "id": "823945bc-56c3-4602-8743-7575c0167b81",
   "metadata": {},
   "source": [
    "Before proceeding to the following executions, you need to:\n",
    "1. Have [Docker](https://www.docker.com/) running locally.\n",
    "2. Download the docker compose file for Memgraph and **start the service container stack**:\n",
    "    1. `curl https://install.memgraph.com | sh`\n",
    "    2. `docker compose up -d` inside the folder holding the compose file\n",
    "3. Python dependency - `neo4j`"
   ]
  },
  {
   "cell_type": "code",
   "execution_count": 1,
   "id": "e412a356-70fb-4265-92f5-2807b384029c",
   "metadata": {
    "jp-MarkdownHeadingCollapsed": true
   },
   "outputs": [
    {
     "name": "stdout",
     "output_type": "stream",
     "text": [
      "services:\n",
      "  memgraph:\n",
      "    image: memgraph/memgraph-mage:3.2\n",
      "    container_name: memgraph-mage\n",
      "    pull_policy: if_not_present\n",
      "    ports:\n",
      "      - \"7687:7687\"\n",
      "      - \"7444:7444\"\n",
      "    command: [\"--log-level=TRACE\"]\n",
      "\n",
      "  lab:\n",
      "    image: memgraph/lab:3.2.0\n",
      "    container_name: memgraph-lab\n",
      "    pull_policy: if_not_present\n",
      "    ports:\n",
      "      - \"3000:3000\"\n",
      "    depends_on:\n",
      "      - memgraph\n",
      "    environment:\n",
      "      - QUICK_CONNECT_MG_HOST=memgraph\n",
      "      - QUICK_CONNECT_MG_PORT=7687\n"
     ]
    }
   ],
   "source": [
    "!cat compose.yaml"
   ]
  },
  {
   "cell_type": "markdown",
   "id": "cfba2e3c-ce5f-42f2-9bfd-cddaf4d3f211",
   "metadata": {},
   "source": [
    "## Interact with a Memgraph DB using Python"
   ]
  },
  {
   "cell_type": "code",
   "execution_count": 2,
   "id": "17068620-4327-4db3-8dd3-730c2d960536",
   "metadata": {},
   "outputs": [],
   "source": [
    "from neo4j import GraphDatabase"
   ]
  },
  {
   "cell_type": "code",
   "execution_count": 3,
   "id": "b1a8d44a-c808-4f8a-9a7f-a5105a5506d8",
   "metadata": {},
   "outputs": [],
   "source": [
    "URI = 'bolt://localhost:7687'\n",
    "AUTH = ('', '')"
   ]
  },
  {
   "cell_type": "code",
   "execution_count": 4,
   "id": "a69a48b5-0554-4cd2-9bbc-2c5d94845430",
   "metadata": {},
   "outputs": [
    {
     "name": "stdout",
     "output_type": "stream",
     "text": [
      "John\n",
      "{'labels_added': 1, 'labels_removed': 0, 'nodes_created': 1, 'nodes_deleted': 0, 'properties_set': 0, 'relationships_created': 0, 'relationships_deleted': 0}\n",
      "John\n",
      "MATCH (u:User {name: $name}) RETURN u.name AS name\n"
     ]
    }
   ],
   "source": [
    "with GraphDatabase.driver(URI, auth=AUTH) as client:\n",
    "  client.verify_connectivity()\n",
    "\n",
    "  # create a user in db\n",
    "  records, summary, keys = client.execute_query(\n",
    "    'CREATE (u:User {name: $name, password: $password}) RETURN u.name AS name;',\n",
    "    name='John',\n",
    "    password='pass',\n",
    "    database_='memgraph',\n",
    "  )\n",
    "  # check result\n",
    "  for record in records:\n",
    "    print(record['name'])\n",
    "  print(summary.counters)\n",
    "\n",
    "  # find user John in db\n",
    "  records, summary, keys = client.execute_query(\n",
    "    'MATCH (u:User {name: $name}) RETURN u.name AS name',\n",
    "    name='John',\n",
    "    database_='memgraph',\n",
    "  )\n",
    "  # check result\n",
    "  for record in records:\n",
    "    print(record['name'])\n",
    "  print(summary.query)"
   ]
  },
  {
   "cell_type": "markdown",
   "id": "adacb547-791f-46c5-918d-82333802852c",
   "metadata": {},
   "source": [
    "## View Data in Memgraph Lab"
   ]
  },
  {
   "cell_type": "markdown",
   "id": "7be84849-6a3a-47e8-95ea-be9133b8e827",
   "metadata": {},
   "source": [
    "[Memgraph Lab](https://memgraph.com/docs/memgraph-lab) is a web-based visualization & management tool of Memgraph DBs. By default, the compose file sets up a Memgraph lab server at port `3000`. Access http://localhost:3000 to connect to the `memgraph` DB in a web browser."
   ]
  },
  {
   "cell_type": "markdown",
   "id": "64f4dbef-ac12-4788-9503-e44ee28af743",
   "metadata": {},
   "source": [
    "In the `Query Execution` tab, run the following Cypher query from the editor to fetch all nodes from the DB and visualize them:"
   ]
  },
  {
   "cell_type": "markdown",
   "id": "f846264b-c6a7-4998-b077-881fbc07626b",
   "metadata": {},
   "source": [
    "```cypher\n",
    "MATCH (n) RETURN n\n",
    "```"
   ]
  },
  {
   "cell_type": "markdown",
   "id": "0fcc0f5c-3db0-48f7-a900-3cb977aace7f",
   "metadata": {},
   "source": [
    "## Clean Up"
   ]
  },
  {
   "cell_type": "markdown",
   "id": "b453115e-faa2-490d-a6a5-b34fe5a0bca8",
   "metadata": {},
   "source": [
    "To clean up the DB, run the following Cypher query as suggested in the [official documentation page](https://memgraph.com/docs/querying/clauses/delete#5-deleting-everything):"
   ]
  },
  {
   "cell_type": "markdown",
   "id": "836bfa2d-7730-4183-a60c-99e7feb5daee",
   "metadata": {},
   "source": [
    "```cypher\n",
    "MATCH (n)\n",
    "DETACH DELETE n;\n",
    "```"
   ]
  },
  {
   "cell_type": "markdown",
   "id": "b8a6ee1b-ea9c-4084-83e1-cedf527acd4b",
   "metadata": {},
   "source": [
    "Before exiting, do not forget to stop the service container stack via `docker compose down`."
   ]
  }
 ],
 "metadata": {
  "kernelspec": {
   "display_name": "Python 3 (ipykernel)",
   "language": "python",
   "name": "python3"
  },
  "language_info": {
   "codemirror_mode": {
    "name": "ipython",
    "version": 3
   },
   "file_extension": ".py",
   "mimetype": "text/x-python",
   "name": "python",
   "nbconvert_exporter": "python",
   "pygments_lexer": "ipython3",
   "version": "3.12.4"
  }
 },
 "nbformat": 4,
 "nbformat_minor": 5
}
