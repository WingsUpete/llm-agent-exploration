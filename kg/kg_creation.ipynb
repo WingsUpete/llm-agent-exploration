{
 "cells": [
  {
   "cell_type": "markdown",
   "id": "b3545665-dcf7-417c-a3fa-495d275b8b0d",
   "metadata": {},
   "source": [
    "# Knowledge Graph Creation"
   ]
  },
  {
   "cell_type": "markdown",
   "id": "4f5024e9-0781-426f-9d82-4f08feb7dfa3",
   "metadata": {},
   "source": [
    "Create a knowledge graph from an unstructured Markdown file."
   ]
  },
  {
   "cell_type": "markdown",
   "id": "f183e67a-1129-48a3-9c1f-af55bb04ef75",
   "metadata": {},
   "source": [
    "Follow this [official documentation page](https://python.langchain.com/docs/integrations/graphs/memgraph/) from Langchain with Memgraph integration."
   ]
  },
  {
   "cell_type": "markdown",
   "id": "0bed797f-cab3-428a-ae33-208883f56ae4",
   "metadata": {},
   "source": [
    "## Generating Entities & Replationships"
   ]
  },
  {
   "cell_type": "code",
   "execution_count": 1,
   "id": "e0d742f3-184a-443b-9e61-7e57442ff98a",
   "metadata": {},
   "outputs": [],
   "source": [
    "def load_file_content(file_path: str) -> str:\n",
    "    with open(file_path, 'r', encoding='utf-8') as f:\n",
    "        return f.read()"
   ]
  },
  {
   "cell_type": "code",
   "execution_count": 2,
   "id": "15a5cc3d-97cd-4d86-91b5-9ea21a620224",
   "metadata": {},
   "outputs": [],
   "source": [
    "file_path = '../files/elden_ring.md'\n",
    "file_content = load_file_content(file_path)"
   ]
  },
  {
   "cell_type": "code",
   "execution_count": 3,
   "id": "dc2684ae-021c-4c8b-bc33-7a82697b0433",
   "metadata": {},
   "outputs": [],
   "source": [
    "from langchain_ollama import ChatOllama\n",
    "\n",
    "llm = ChatOllama(\n",
    "    model='qwen2.5:7b',\n",
    "    base_url='http://localhost:11435',\n",
    "    format='json',\n",
    ")"
   ]
  },
  {
   "cell_type": "code",
   "execution_count": 4,
   "id": "b18bbd17-9c57-4ccf-b93b-eba708144dcf",
   "metadata": {},
   "outputs": [
    {
     "name": "stdout",
     "output_type": "stream",
     "text": [
      "{\n",
      "  \"response\": \"I am Qwen, a large language model created by Alibaba Cloud.\"\n",
      "}\n"
     ]
    }
   ],
   "source": [
    "# verify LLM\n",
    "print(llm.invoke('Who are you? Respond with a JSON object and put the answer in the `response` key.').content)"
   ]
  },
  {
   "cell_type": "markdown",
   "id": "7e4043ab-6268-4549-9854-784e8c1f14e0",
   "metadata": {},
   "source": [
    "The following prompt template originates from [LangChain's `LLMGraphTransformer`](https://github.com/langchain-ai/langchain-experimental/blob/5cdbf02e3771da35d1438bb7597be4575610684e/libs/experimental/langchain_experimental/graph_transformers/llm.py#L110)."
   ]
  },
  {
   "cell_type": "code",
   "execution_count": 5,
   "id": "b67d83a6-38c1-4ca7-8d56-cbdb176bd89c",
   "metadata": {},
   "outputs": [],
   "source": [
    "# general_instructions = \"\"\"\n",
    "# You are a top-tier algorithm designed for extracting information in structured formats to build a knowledge graph.\n",
    "# \"\"\"\n",
    "# Try to capture as much information from the text as possible without sacrificing accuracy. Do not add any information that is not explicitly mentioned in the text.\n",
    "# The aim is to achieve simplicity and clarity in the knowledge graph, making it accessible for a vast audience.\n",
    "# Nodes represent entities and concepts. Ensure you use available types for node labels. Ensure you use basic/elementary types for node labels.\n",
    "# For example, when you identify an entity representing a person, always label it as 'person'. Avoid using more specific terms like 'mathematician' or 'scientist'.\n",
    "# Never utilize integers as node IDs. Node IDs should be names or human-readable identifiers found in the text.\n",
    "# Relationships represent connections between entities or concepts.\n",
    "# Ensure consistency and generality in relationship types when constructing knowledge graphs. Instead of using specific and momentary types such as 'BECAME_PROFESSOR', use more general and timeless relationship types like 'PROFESSOR'. Make sure to use general and timeless relationship types!\n",
    "# When extracting entities, it's vital to ensure consistency.\n",
    "# If an entity, such as \"John Doe\", is mentioned multiple times in the text but is referred to by different names or pronouns (e.g., \"Joe\", \"he\"), always use the most complete identifier for that entity throughout the knowledge graph. In this example, use \"John Doe\" as the entity ID.\n",
    "# Remember, the knowledge graph should be coherent and easily understandable, so maintaining consistency in entity references is crucial.\n",
    "# Adhere to the rules strictly. Non-compliance will result in termination."
   ]
  },
  {
   "cell_type": "code",
   "execution_count": 6,
   "id": "8136651e-b223-4ca2-b403-1ae9351f4558",
   "metadata": {},
   "outputs": [],
   "source": [
    "output_example = {\n",
    "    'nodes': [\n",
    "        {\n",
    "            'id': 'John Doe',\n",
    "            'type': 'Person',\n",
    "            'properties': {'profession': 'scientist'}\n",
    "        }\n",
    "    ],\n",
    "    'relationships': [\n",
    "        {\n",
    "            'source': 'John Doe',\n",
    "            'target': 'Introduction to AI',\n",
    "            'type': 'READ',\n",
    "            'properties': {'time': 'August 2025'}\n",
    "        }\n",
    "    ]\n",
    "}"
   ]
  },
  {
   "cell_type": "code",
   "execution_count": 7,
   "id": "1d3a796f-5de3-4086-b095-0ce05f82a25e",
   "metadata": {},
   "outputs": [],
   "source": [
    "output_spec = \"\"\"\n",
    "Output Example:\n",
    "{output_example}\n",
    "\"\"\""
   ]
  },
  {
   "cell_type": "code",
   "execution_count": 8,
   "id": "369b0293-0a1f-452f-ad47-1aa3c364bee6",
   "metadata": {},
   "outputs": [],
   "source": [
    "question_template = \"\"\"\n",
    "Current Task: You are a top-tier algorithm designed for extracting information in structured formats to build a knowledge graph.\n",
    "Tip: Make sure to answer in the correct format and do not include any explanations.\n",
    "Use the given format to extract information from the following input:\n",
    "{input}\n",
    "\"\"\""
   ]
  },
  {
   "cell_type": "code",
   "execution_count": 9,
   "id": "53bedc4b-d20c-465b-b39f-54056d4cee31",
   "metadata": {},
   "outputs": [
    {
     "name": "stdout",
     "output_type": "stream",
     "text": [
      "\n",
      "Output Example:\n",
      "{output_example}\n",
      "\n",
      "Current Task: You are a top-tier algorithm designed for extracting information in structured formats to build a knowledge graph.\n",
      "Tip: Make sure to answer in the correct format and do not include any explanations.\n",
      "Use the given format to extract information from the following input:\n",
      "{input}\n",
      "\n"
     ]
    }
   ],
   "source": [
    "from langchain_core.prompts import PromptTemplate\n",
    "\n",
    "\n",
    "kg_creation_prompt_template = ''.join([\n",
    "    # general_instructions,\n",
    "    output_spec,\n",
    "    question_template,\n",
    "])\n",
    "kg_creation_prompt = PromptTemplate.from_template(kg_creation_prompt_template)\n",
    "print(kg_creation_prompt.template)"
   ]
  },
  {
   "cell_type": "code",
   "execution_count": 10,
   "id": "d64f93bd-16f8-45f8-859d-2ffa0981fdb8",
   "metadata": {
    "scrolled": true
   },
   "outputs": [
    {
     "name": "stdout",
     "output_type": "stream",
     "text": [
      "\n",
      "Output Example:\n",
      "{\"nodes\": [{\"id\": \"John Doe\", \"type\": \"Person\", \"properties\": {\"profession\": \"scientist\"}}], \"relationships\": [{\"source\": \"John Doe\", \"target\": \"Introduction to AI\", \"type\": \"READ\", \"properties\": {\"time\": \"August 2025\"}}]}\n",
      "\n",
      "Current Task: You are a top-tier algorithm designed for extracting information in structured formats to build a knowledge graph.\n",
      "Tip: Make sure to answer in the correct format and do not include any explanations.\n",
      "Use the given format to extract information from the following input:\n",
      "# Elden Ring: A Comprehensive Guide\n",
      "\n",
      "**Elden Ring** is an action RPG developed by FromSoftware and published by Bandai Namco Entertainment. Directed by Hidetaka Miyazaki, in collaboration with George R. R. Martin, the game blends the intricate lore and challenging gameplay FromSoftware is renowned for with a vast, open-world experience.\n",
      "\n",
      "---\n",
      "\n",
      "## Story and Setting\n",
      "\n",
      "**Elden Ring** is set in the mystical world of the Lands Between, where the Elden Ring, a powerful artifact, has been shattered. Players assume the role of a Tarnished, one of many exiles summoned back to the Lands Between to restore the Elden Ring and become the Elden Lord. The narrative is rich and complex, with each region, character, and item contributing to the overarching lore. \n",
      "\n",
      "---\n",
      "\n",
      "## Gameplay Mechanics\n",
      "\n",
      "**Combat and Exploration:**\n",
      "- **Combat**: The combat system in Elden Ring builds on FromSoftware's previous titles, emphasizing timing, strategy, and resource management. Players can choose from a variety of weapons, magic, and abilities to tailor their combat style.\n",
      "- **Exploration**: The open-world design encourages exploration. Players can traverse the Lands Between on foot or horseback, discovering hidden dungeons, powerful enemies, and valuable items.\n",
      "\n",
      "**Character Customization:**\n",
      "- **Classes and Attributes**: Players can select from various classes at the start, each with unique attributes and abilities. As they progress, they can level up and allocate points to different attributes, shaping their character to fit their preferred playstyle.\n",
      "- **Equipment**: A wide array of weapons, armor, and magical items are available. Equipment can be upgraded and modified, enhancing their effectiveness and allowing for deeper customization.\n",
      "\n",
      "**Special Features:**\n",
      "- **Spirit Ashes and Summons**: Players can summon spirits to assist in combat, each with unique abilities and roles.\n",
      "- **Mounted Combat**: Fighting on horseback adds a new layer of strategy.\n",
      "- **Multiplayer**: Both cooperative and competitive multiplayer modes are available, allowing players to interact, fight, or assist each other.\n",
      "\n",
      "---\n",
      "\n",
      "## World and Environment\n",
      "\n",
      "The Lands Between is divided into several distinct regions, each with its unique landscape, enemies, and challenges. Key locations include:\n",
      "\n",
      "- **Limgrave**: A starting region with lush forests and ancient ruins.\n",
      "- **Liurnia of the Lakes**: A vast, watery expanse home to the Raya Lucaria Academy.\n",
      "- **Caelid**: A desolate, scarred land filled with dangerous creatures.\n",
      "\n",
      "The world is designed to reward exploration, with hidden secrets, powerful items, and lore fragments scattered throughout.\n",
      "\n",
      "---\n",
      "\n",
      "## Key Locations and Progression\n",
      "\n",
      "**Tutorial and Early Areas:**\n",
      "- **The Chapel of Anticipation**: The starting point for all players, where they learn the basics of gameplay.\n",
      "- **Limgrave**: The first major region, offering a variety of enemies and quests to help players acclimate to the game's mechanics.\n",
      "\n",
      "**Major Regions:**\n",
      "- **Stormveil Castle**: A massive fortress filled with tough enemies and valuable loot.\n",
      "- **Raya Lucaria Academy**: A school of sorcery with its own unique challenges and rewards.\n",
      "- **Caelid**: A harsh, dangerous region that tests the player's combat skills and resourcefulness.\n",
      "\n",
      "---\n",
      "\n",
      "## Combat and Strategy\n",
      "\n",
      "**Combat Mechanics:**\n",
      "- **Basics**: Understanding the basics of combat, including dodging, parrying, and blocking, is crucial for survival.\n",
      "- **Advanced Techniques**: Mastering advanced techniques, such as backstabbing and using magic effectively, can turn the tide in difficult battles.\n",
      "\n",
      "**Boss Fights:**\n",
      "- **Strategies**: Each boss in Elden Ring has unique mechanics and requires specific strategies to defeat. Learning these patterns and adapting your approach is key to success.\n",
      "- **Spirit Summons**: Utilizing spirit summons can provide valuable assistance in tough fights, drawing aggro or dealing damage.\n",
      "\n",
      "---\n",
      "\n",
      "## Multiplayer and Online Features\n",
      "\n",
      "**Co-op and PvP:**\n",
      "- **Co-op**: Players can summon others to help with tough areas or bosses, making the game more manageable.\n",
      "- **PvP**: Competitive multiplayer allows players to invade others' worlds, adding an element of risk and excitement.\n",
      "\n",
      "**Asynchronous Features:**\n",
      "- **Messages**: Players can leave messages for others, providing hints or warnings.\n",
      "- **Bloodstains**: Viewing bloodstains shows how other players died, offering clues to potential dangers.\n",
      "\n",
      "---\n",
      "\n",
      "## Character Builds and Playstyles\n",
      "\n",
      "**Builds:**\n",
      "- **Strength Builds**: Focus on heavy weapons and high damage output.\n",
      "- **Dexterity Builds**: Emphasize speed and precision, using lighter weapons.\n",
      "- **Magic Builds**: Utilize powerful sorceries and incantations to deal damage from a distance.\n",
      "\n",
      "**Customization:**\n",
      "- **Attributes**: Players can allocate points to various attributes, such as strength, dexterity, intelligence, and faith, to suit their preferred playstyle.\n",
      "- **Equipment**: Choosing the right weapons, armor, and talismans is crucial for maximizing effectiveness in combat.\n",
      "\n",
      "---\n",
      "\n",
      "## In-Game Economy and Resources\n",
      "\n",
      "**Currency and Upgrades:**\n",
      "- **Runes**: The primary currency, used for leveling up and purchasing items.\n",
      "- **Smithing Stones**: Essential for upgrading weapons and armor.\n",
      "\n",
      "**Crafting:**\n",
      "- **Materials**: Gathering materials from the environment to craft consumables and upgrades.\n",
      "- **Recipes**: Learning new recipes to expand crafting options.\n",
      "\n",
      "---\n",
      "\n",
      "## Lore and World-Building\n",
      "\n",
      "**Mythos:**\n",
      "- **The Elden Ring**: The central artifact around which the game's story revolves.\n",
      "- **The Lands Between**: A rich, detailed world filled with history and myth.\n",
      "\n",
      "**Characters:**\n",
      "- **NPCs**: Interacting with NPCs provides quests, lore, and valuable items.\n",
      "- **Bosses**: Each boss has its own backstory and significance within the world.\n",
      "\n",
      "---\n",
      "\n",
      "## Technical and Artistic Aspects\n",
      "\n",
      "**Graphics and Art Style:**\n",
      "- **Visuals**: Stunning graphics that blend gothic and high fantasy elements.\n",
      "- **Art Direction**: A unique art style that enhances the game's atmosphere and storytelling.\n",
      "\n",
      "**Audio:**\n",
      "- **Soundtrack**: Composed by Yuka Kitamura and others, the music enhances the mood and intensity of the game.\n",
      "- **Voice Acting**: High-quality voice acting brings characters and lore to life.\n",
      "\n",
      "---\n",
      "\n",
      "## Development and Release\n",
      "\n",
      "**History:**\n",
      "- **Announcement**: First revealed in 2019, developed by FromSoftware and directed by Hidetaka Miyazaki, with world-building by George R. R. Martin.\n",
      "- **Release Date**: Released on February 25, 2022, for PlayStation 4, PlayStation 5, Xbox One, Xbox Series X/S, and Microsoft Windows.\n",
      "\n",
      "**Reception:**\n",
      "- **Critical Acclaim**: Praised for its depth, challenge, and open-world design, quickly becoming a bestseller and winning numerous awards.\n",
      "- **Community**: A vibrant community that shares strategies, builds, and lore theories.\n",
      "\n",
      "---\n",
      "\n",
      "# Conclusion\n",
      "\n",
      "Elden Ring stands as a monumental achievement in the action RPG genre. Its vast open world, intricate lore, and challenging gameplay offer an unparalleled experience for fans and newcomers alike. Whether you're delving into the lore, mastering combat mechanics, or exploring every nook and cranny of the Lands Between, Elden Ring provides a rich, rewarding adventure that sets a new standard for the genre.\n",
      "\n",
      "---\n",
      "\n",
      "This comprehensive guide only scratches the surface of what Elden Ring has to offer. For more detailed walkthroughs, strategies, and tips, you can refer to the extensive resources available on platforms like [Fextralife](https://eldenring.wiki.fextralife.com/), [IGN](https://www.ign.com/wikis/elden-ring), and [TheGamer](https://www.thegamer.com/elden-ring-complete-guide-walkthrough/).\n",
      "\n"
     ]
    }
   ],
   "source": [
    "import json\n",
    "final_prompt = kg_creation_prompt.format(input=file_content, output_example=json.dumps(output_example))\n",
    "print(final_prompt)"
   ]
  },
  {
   "cell_type": "code",
   "execution_count": 11,
   "id": "1ea51bf7-4298-408a-bf46-540708f6e6f7",
   "metadata": {},
   "outputs": [],
   "source": [
    "res = llm.invoke(final_prompt)"
   ]
  },
  {
   "cell_type": "code",
   "execution_count": 12,
   "id": "bd5f5d55-f1e2-4587-9370-e76340684393",
   "metadata": {},
   "outputs": [
    {
     "name": "stdout",
     "output_type": "stream",
     "text": [
      "{'nodes': [{'id': 'Elden Ring',\n",
      "            'properties': {'developer': 'FromSoftware',\n",
      "                           'director': 'Hidetaka Miyazaki, George R. R. Martin',\n",
      "                           'publisher': 'Bandai Namco Entertainment'},\n",
      "            'type': 'Game'},\n",
      "           {'id': 'Limgrave', 'properties': {}, 'type': 'Region'},\n",
      "           {'id': 'Liurnia of the Lakes', 'properties': {}, 'type': 'Region'},\n",
      "           {'id': 'Caelid', 'properties': {}, 'type': 'Region'},\n",
      "           {'id': 'The Chapel of Anticipation',\n",
      "            'properties': {},\n",
      "            'type': 'Location'},\n",
      "           {'id': 'Stormveil Castle', 'properties': {}, 'type': 'Location'},\n",
      "           {'id': 'Raya Lucaria Academy',\n",
      "            'properties': {},\n",
      "            'type': 'Location'}],\n",
      " 'relationships': [{'properties': {},\n",
      "                    'source': 'Elden Ring',\n",
      "                    'target': 'Limgrave',\n",
      "                    'type': 'SET_IN'},\n",
      "                   {'properties': {},\n",
      "                    'source': 'Elden Ring',\n",
      "                    'target': 'Liurnia of the Lakes',\n",
      "                    'type': 'SET_IN'},\n",
      "                   {'properties': {},\n",
      "                    'source': 'Elden Ring',\n",
      "                    'target': 'Caelid',\n",
      "                    'type': 'SET_IN'},\n",
      "                   {'properties': {},\n",
      "                    'source': 'Elden Ring',\n",
      "                    'target': 'The Chapel of Anticipation',\n",
      "                    'type': 'SET_IN'},\n",
      "                   {'properties': {},\n",
      "                    'source': 'Elden Ring',\n",
      "                    'target': 'Stormveil Castle',\n",
      "                    'type': 'SET_IN'},\n",
      "                   {'properties': {},\n",
      "                    'source': 'Elden Ring',\n",
      "                    'target': 'Raya Lucaria Academy',\n",
      "                    'type': 'SET_IN'}]}\n"
     ]
    }
   ],
   "source": [
    "import json\n",
    "from pprint import pprint\n",
    "\n",
    "res_json = json.loads(res.content)\n",
    "pprint(res_json)"
   ]
  },
  {
   "cell_type": "markdown",
   "id": "3f688356-c289-48a5-a1c7-c16edfa0e3c9",
   "metadata": {},
   "source": [
    "Finally, we need to parse the JSON dict into graph documents that can be processed by pre-defined LangChain Memgraph integrations."
   ]
  },
  {
   "cell_type": "code",
   "execution_count": 13,
   "id": "6f7f29b7-7ee6-40b1-9c89-b95ef75ff608",
   "metadata": {},
   "outputs": [],
   "source": [
    "from langchain_memgraph.graphs.graph_document import Node, Relationship, GraphDocument\n",
    "\n",
    "nodes = {node['id']: Node(**node) for node in res_json['nodes']}\n",
    "relationships = [Relationship(\n",
    "    source=nodes[rel['source']],\n",
    "    target=nodes[rel['target']],\n",
    "    type=rel['type']\n",
    "    # TODO: relationship\n",
    ") for rel in res_json['relationships']]\n",
    "graph_documents = [GraphDocument(nodes=nodes.values(), relationships=relationships)]"
   ]
  },
  {
   "cell_type": "markdown",
   "id": "7c8decd0-6637-4092-a930-a8566f8ea9a4",
   "metadata": {},
   "source": [
    "## Adding Generated Results to Memgraph"
   ]
  },
  {
   "cell_type": "markdown",
   "id": "37fb02f9-eeb0-4461-8bc7-10a5a2425763",
   "metadata": {},
   "source": [
    "**NOTE**: Make sure Memgraph is running."
   ]
  },
  {
   "cell_type": "markdown",
   "id": "86c45843-219e-40a7-8907-bf149b4f136c",
   "metadata": {},
   "source": [
    "Memgraph Lab is running at http://localhost:3000/ openable from browser.\n",
    "\n",
    "Memgraph MAGE server is running at http://localhost:7687/."
   ]
  },
  {
   "cell_type": "code",
   "execution_count": 14,
   "id": "3ce5a907-f5fd-4051-90be-22808132a321",
   "metadata": {},
   "outputs": [],
   "source": [
    "url = 'bolt://localhost:7687'\n",
    "username = ''\n",
    "password = ''"
   ]
  },
  {
   "cell_type": "code",
   "execution_count": 15,
   "id": "8ae77ff4-b1c8-487a-b1f6-74628ea86d0a",
   "metadata": {},
   "outputs": [],
   "source": [
    "from langchain_memgraph.graphs.memgraph import Memgraph\n",
    "\n",
    "graph = Memgraph(url=url, username=username, password=password, refresh_schema=False)"
   ]
  },
  {
   "cell_type": "code",
   "execution_count": 16,
   "id": "4e6d8f6a-157b-48ba-8982-f68da976f0ef",
   "metadata": {},
   "outputs": [
    {
     "data": {
      "text/plain": [
       "[]"
      ]
     },
     "execution_count": 16,
     "metadata": {},
     "output_type": "execute_result"
    }
   ],
   "source": [
    "# Empty the database\n",
    "graph.query(\"STORAGE MODE IN_MEMORY_ANALYTICAL\")\n",
    "graph.query(\"DROP GRAPH\")\n",
    "graph.query(\"STORAGE MODE IN_MEMORY_TRANSACTIONAL\")"
   ]
  },
  {
   "cell_type": "code",
   "execution_count": 17,
   "id": "69e90089-fbfe-417e-8717-38ccafbbeece",
   "metadata": {},
   "outputs": [],
   "source": [
    "# Create KG\n",
    "graph.add_graph_documents(graph_documents)"
   ]
  },
  {
   "cell_type": "markdown",
   "id": "6de2e526-200d-4a71-a1f7-8281ec927969",
   "metadata": {},
   "source": [
    "Remember to shutdown the Memgraph servers after testing, if necessary."
   ]
  }
 ],
 "metadata": {
  "kernelspec": {
   "display_name": "Python 3 (ipykernel)",
   "language": "python",
   "name": "python3"
  },
  "language_info": {
   "codemirror_mode": {
    "name": "ipython",
    "version": 3
   },
   "file_extension": ".py",
   "mimetype": "text/x-python",
   "name": "python",
   "nbconvert_exporter": "python",
   "pygments_lexer": "ipython3",
   "version": "3.12.4"
  }
 },
 "nbformat": 4,
 "nbformat_minor": 5
}
