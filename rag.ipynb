{
 "cells": [
  {
   "cell_type": "markdown",
   "id": "e37aae69-110b-4b5b-8d74-65e7502dee2f",
   "metadata": {},
   "source": [
    "# RAG"
   ]
  },
  {
   "cell_type": "markdown",
   "id": "7cfa43e4-4c2a-472d-bde3-7a57ccd09069",
   "metadata": {},
   "source": [
    "Here we play with [this demo](https://github.com/LangGraph-GUI/LangGraph-learn/tree/main/07%20ollama%20RAG). We will build a Retrieval-Augmented Generation (RAG) system."
   ]
  },
  {
   "cell_type": "markdown",
   "id": "0503aa80-487e-401c-a2dc-7945b5f748d2",
   "metadata": {},
   "source": [
    "## Prerequisites"
   ]
  },
  {
   "cell_type": "markdown",
   "id": "fbd2840e-7802-44b1-b9e9-a736dbeb5150",
   "metadata": {},
   "source": [
    "1. `ollama` server\n",
    "2. `langchain-ollama`\n",
    "3. `langchain-core`\n",
    "4. `chromadb`: [Chroma](https://docs.trychroma.com/docs/overview/introduction) is a vector DB."
   ]
  },
  {
   "cell_type": "code",
   "execution_count": 1,
   "id": "a75b4293-f8b3-429d-9977-3d4410cf6990",
   "metadata": {},
   "outputs": [],
   "source": [
    "from langchain_ollama import ChatOllama\n",
    "from langchain_ollama.embeddings import OllamaEmbeddings\n",
    "from langchain_core.prompts import PromptTemplate\n",
    "from langchain_core.output_parsers import StrOutputParser\n",
    "from langchain.text_splitter import RecursiveCharacterTextSplitter\n",
    "import chromadb"
   ]
  },
  {
   "cell_type": "code",
   "execution_count": 2,
   "id": "e3742226-d433-4391-a3ce-7274c8775f07",
   "metadata": {},
   "outputs": [],
   "source": [
    "llm_name = 'deepseek-r1:7b'\n",
    "# NOTE: Embedding models manually configured for some LLMs do not work well with embedding search via vector DB like Chroma\n",
    "manual_embedding = False"
   ]
  },
  {
   "cell_type": "markdown",
   "id": "bc370bb8-a802-4be2-ba83-8894ac4cb287",
   "metadata": {},
   "source": [
    "## Preprocessing External Files"
   ]
  },
  {
   "cell_type": "markdown",
   "id": "4ea34084-c402-4619-88a2-e256cd9598c4",
   "metadata": {},
   "source": [
    "We will work on one external markdown file for this demo."
   ]
  },
  {
   "cell_type": "code",
   "execution_count": 3,
   "id": "cb5271f8-b9b6-481e-bda6-4ec758fb281d",
   "metadata": {},
   "outputs": [],
   "source": [
    "def load_file_content(file_path):\n",
    "    with open(file_path, 'r', encoding='utf-8') as f:\n",
    "        return f.read()"
   ]
  },
  {
   "cell_type": "code",
   "execution_count": 4,
   "id": "efc3d9e6-b516-4cf6-a544-deddc016d0ac",
   "metadata": {
    "scrolled": true
   },
   "outputs": [],
   "source": [
    "file_path = 'files/elden_ring.md'\n",
    "file_content = load_file_content(file_path)"
   ]
  },
  {
   "cell_type": "markdown",
   "id": "e998def8-40c4-4e0b-a569-5c8ea0b32873",
   "metadata": {},
   "source": [
    "First, we use a text splitter to slice the file content into text chunks."
   ]
  },
  {
   "cell_type": "code",
   "execution_count": 5,
   "id": "d2eea470-d637-46e5-b2f1-139e56bd9dc4",
   "metadata": {},
   "outputs": [],
   "source": [
    "# text splitter\n",
    "# https://python.langchain.com/docs/how_to/recursive_text_splitter/\n",
    "# https://api.python.langchain.com/en/latest/character/langchain_text_splitters.character.RecursiveCharacterTextSplitter.html\n",
    "# https://dev.to/eteimz/understanding-langchains-recursivecharactertextsplitter-2846\n",
    "text_splitter = RecursiveCharacterTextSplitter(chunk_size=500, chunk_overlap=100)  # unit: number of chars"
   ]
  },
  {
   "cell_type": "code",
   "execution_count": 6,
   "id": "eda04f0e-9747-4b9a-933c-cbae26bd7fef",
   "metadata": {
    "scrolled": true
   },
   "outputs": [],
   "source": [
    "# split the document into chunks\n",
    "chunks = text_splitter.split_text(file_content)"
   ]
  },
  {
   "cell_type": "code",
   "execution_count": 7,
   "id": "d385d6a9-4aaf-4989-b034-507de068aff6",
   "metadata": {},
   "outputs": [
    {
     "name": "stdout",
     "output_type": "stream",
     "text": [
      "[365, 442, 488, 485, 388, 399, 435, 326, 316, 363, 285, 257, 296, 332, 414, 420, 477, 329, 261, 430, 392]\n"
     ]
    },
    {
     "data": {
      "text/plain": [
       "'gameplay FromSoftware is renowned for with a vast, open-world experience.\\n\\n---\\n\\n## Story and Setting'"
      ]
     },
     "metadata": {},
     "output_type": "display_data"
    },
    {
     "name": "stdout",
     "output_type": "stream",
     "text": [
      "<SEPARATOR>\n"
     ]
    },
    {
     "data": {
      "text/plain": [
       "'---\\n\\n## Story and Setting\\n\\n**Elden Ring** is set in the mystical world of the Lands Between, where t'"
      ]
     },
     "metadata": {},
     "output_type": "display_data"
    }
   ],
   "source": [
    "# debug sliced chunks\n",
    "print([len(chunk) for chunk in chunks])\n",
    "if len(chunks) >= 2:\n",
    "    display(chunks[0][-100:])\n",
    "    print('<SEPARATOR>')\n",
    "    display(chunks[1][:100])"
   ]
  },
  {
   "cell_type": "markdown",
   "id": "55dd2c44-3255-4fa3-b8e8-27646b352da9",
   "metadata": {},
   "source": [
    "Then we use a embedding model to transform natural language text chunks into the embedding space. We will do that later."
   ]
  },
  {
   "cell_type": "code",
   "execution_count": 8,
   "id": "ae5cdd2b-faa4-4ff3-9abc-6457dfb0c3ce",
   "metadata": {},
   "outputs": [],
   "source": [
    "# embedding model\n",
    "# https://python.langchain.com/api_reference/ollama/embeddings/langchain_ollama.embeddings.OllamaEmbeddings.html\n",
    "embed_model = OllamaEmbeddings(model=llm_name) if manual_embedding else None"
   ]
  },
  {
   "cell_type": "code",
   "execution_count": 9,
   "id": "c1f344f0-b4ad-4455-b7b9-452863f36fb5",
   "metadata": {},
   "outputs": [],
   "source": [
    "# debug embedding model\n",
    "if manual_embedding and len(chunks) > 0:\n",
    "    embedded = embed_model.embed_documents([chunks[0]])\n",
    "    print(len(embedded), len(embedded[0]))"
   ]
  },
  {
   "cell_type": "markdown",
   "id": "71ee6c78-3dcf-4e73-aa92-23d75735c272",
   "metadata": {},
   "source": [
    "Now we create a ChromaDB client and initialize a collection to store the embedded chunks."
   ]
  },
  {
   "cell_type": "code",
   "execution_count": 10,
   "id": "129d2168-536d-44cc-a0cd-20a4d1bdde11",
   "metadata": {},
   "outputs": [],
   "source": [
    "# Chroma Ephemeral Client (in-memory)\n",
    "# https://docs.trychroma.com/docs/run-chroma/ephemeral-client\n",
    "# https://docs.trychroma.com/reference/python/client#client\n",
    "chroma_client = chromadb.Client()"
   ]
  },
  {
   "cell_type": "code",
   "execution_count": 11,
   "id": "392dc4bd-ff84-48fd-bd20-2893e53e742a",
   "metadata": {},
   "outputs": [],
   "source": [
    "# Chroma Collection\n",
    "# https://docs.trychroma.com/docs/collections/create-get-delete\n",
    "# https://docs.trychroma.com/reference/python/client#createcollection\n",
    "collection = chroma_client.create_collection(name='docs')"
   ]
  },
  {
   "cell_type": "code",
   "execution_count": 12,
   "id": "0ff688e5-8f22-4f97-8d7b-c118b7071a05",
   "metadata": {},
   "outputs": [],
   "source": [
    "# add embeded chunk to Chroma collection\n",
    "# https://docs.trychroma.com/docs/collections/add-data\n",
    "# https://docs.trychroma.com/reference/python/collection#add\n",
    "collection.add(\n",
    "    ids=[str(i) for i in range(len(chunks))],\n",
    "    embeddings=embed_model.embed_documents(chunks) if manual_embedding else None,  # note that embeded is already a list\n",
    "    documents=chunks\n",
    ")"
   ]
  },
  {
   "cell_type": "markdown",
   "id": "07ffe9bc-f16b-4d24-9392-1bb1964700dd",
   "metadata": {},
   "source": [
    "## Define the Execution Chain Including LLM"
   ]
  },
  {
   "cell_type": "code",
   "execution_count": 13,
   "id": "219d0551-7596-4e6f-84af-cd2fe54ecf94",
   "metadata": {},
   "outputs": [],
   "source": [
    "# initialize the ChatOllama model with desired parameters\n",
    "# https://pypi.org/project/langchain-ollama/\n",
    "# https://python.langchain.com/docs/integrations/chat/ollama/\n",
    "# https://python.langchain.com/api_reference/ollama/chat_models/langchain_ollama.chat_models.ChatOllama.html\n",
    "llm = ChatOllama(model=llm_name)"
   ]
  },
  {
   "cell_type": "code",
   "execution_count": 14,
   "id": "27691023-1d7d-48d2-b766-42489e9b75fe",
   "metadata": {},
   "outputs": [],
   "source": [
    "# define a prompt template\n",
    "template = \"\"\"\n",
    "I am helping the user to maintain a knowledge base - some local files.\n",
    "I will answer the user's questions strictly based on the content retrieved from the local files.\n",
    "Current question: {question}\n",
    "\"\"\"\n",
    "prompt = PromptTemplate.from_template(template)"
   ]
  },
  {
   "cell_type": "code",
   "execution_count": 15,
   "id": "05992932-b688-4946-ba21-9cc336590f07",
   "metadata": {},
   "outputs": [],
   "source": [
    "# define a langchain pipeline - execution chain\n",
    "llm_chain = prompt | llm | StrOutputParser()"
   ]
  },
  {
   "cell_type": "markdown",
   "id": "65431a7f-478f-4987-8fef-dff4953260ce",
   "metadata": {},
   "source": [
    "## Specify RAG Logic"
   ]
  },
  {
   "cell_type": "markdown",
   "id": "ed438620-138b-48d7-96c9-3bb6c5bb5b2b",
   "metadata": {},
   "source": [
    "Now we demonstrate how RAG system is actually implemented. We define the logic in one single function."
   ]
  },
  {
   "cell_type": "code",
   "execution_count": 16,
   "id": "517aa8bf-dbb2-4ee5-b1fa-afc5b81065d4",
   "metadata": {},
   "outputs": [],
   "source": [
    "test_question = 'Describe the boss combat strategy of this game?'"
   ]
  },
  {
   "cell_type": "code",
   "execution_count": 17,
   "id": "2b66dec2-0d66-4a9f-a91d-964fbce13d4a",
   "metadata": {},
   "outputs": [],
   "source": [
    "# debug embed_query: the embedded vector length should match the one in embed_documents\n",
    "if manual_embedding:\n",
    "    test_embedded_query = embed_model.embed_query(test_question)\n",
    "    print(len(test_embedded_query))"
   ]
  },
  {
   "cell_type": "code",
   "execution_count": 18,
   "id": "84739d8f-dc1b-4d66-8c50-830de042bed5",
   "metadata": {},
   "outputs": [
    {
     "name": "stdout",
     "output_type": "stream",
     "text": [
      "dict_keys(['ids', 'embeddings', 'documents', 'uris', 'data', 'metadatas', 'distances', 'included'])\n",
      "ids: [['9', '8', '12']]\n",
      "distances: [[1.0183849334716797, 1.0212794542312622, 1.2001222372055054]]\n",
      "**Boss Fights:**\n",
      "- **Strategies**: Each boss in Elden Ring has unique mechanics and requires specific strategies to defeat. Learning these patterns and adapting your approach is key to success.\n",
      "- **Spirit Summons**: Utilizing spirit summons can provide valuable assistance in tough fights, drawing aggro or dealing damage.\n",
      "\n",
      "---\n",
      "\n",
      "## Multiplayer and Online Features\n"
     ]
    }
   ],
   "source": [
    "# debug collection.query\n",
    "# https://docs.trychroma.com/docs/querying-collections/query-and-get\n",
    "# https://docs.trychroma.com/reference/python/collection#query\n",
    "# how distances are calculated: https://docs.trychroma.com/docs/collections/configure\n",
    "test_results = collection.query(\n",
    "    query_embeddings=[test_embedded_query] if manual_embedding else None,\n",
    "    query_texts=[test_question] if not manual_embedding else None,\n",
    "    n_results=3\n",
    ")\n",
    "print(test_results.keys())\n",
    "print('ids:', test_results['ids'])\n",
    "print('distances:', test_results['distances'])\n",
    "print(test_results['documents'][-1][0])"
   ]
  },
  {
   "cell_type": "code",
   "execution_count": 19,
   "id": "4d57add6-8cf5-449f-8726-e8a5485e9ca4",
   "metadata": {},
   "outputs": [],
   "source": [
    "# answer questions using RAG\n",
    "def answer(question: str) -> str:\n",
    "    # embed query\n",
    "    if manual_embedding:\n",
    "        embedded_query = embed_model.embed_query(question)\n",
    "    # retrieve the most relevant document chunks\n",
    "    search_res = collection.query(\n",
    "        query_embeddings=[embedded_query] if manual_embedding else None,\n",
    "        query_texts=[question] if not manual_embedding else None,\n",
    "        n_results=3\n",
    "    )\n",
    "    search_documents = search_res['documents'][0]\n",
    "    combined_docs = ''\n",
    "    for i in range(len(search_documents)):\n",
    "        combined_docs += f'Chunk {i}:\\n{search_documents[i]}'\n",
    "        if i != len(search_documents) - 1:\n",
    "            combined_docs += '\\n'\n",
    "    # add RAG results to the initial question\n",
    "    enhanced_question = f'Relevant text chunks retrieved from the knowledge base:\\n{combined_docs}\\nAnswer this question: {question}'\n",
    "    formatted_prompt = prompt.format(question=enhanced_question)\n",
    "    print(formatted_prompt)\n",
    "    # execute\n",
    "    generation = llm_chain.invoke(formatted_prompt)\n",
    "    return generation"
   ]
  },
  {
   "cell_type": "markdown",
   "id": "07ad454d-b724-4a90-8866-c2685b7f2866",
   "metadata": {},
   "source": [
    "## Test"
   ]
  },
  {
   "cell_type": "markdown",
   "id": "2aa7e790-fc0b-4018-a36e-9dc8dcaa08c6",
   "metadata": {},
   "source": [
    "### Test 0"
   ]
  },
  {
   "cell_type": "code",
   "execution_count": 20,
   "id": "f45f6e4f-92b5-4b9c-ac47-c104f2e0b744",
   "metadata": {},
   "outputs": [
    {
     "name": "stdout",
     "output_type": "stream",
     "text": [
      "\n",
      "I am helping the user to maintain a knowledge base - some local files.\n",
      "I will answer the user's questions strictly based on the content retrieved from the local files.\n",
      "Current question: Relevant text chunks retrieved from the knowledge base:\n",
      "Chunk 0:\n",
      "---\n",
      "\n",
      "# Conclusion\n",
      "\n",
      "Elden Ring stands as a monumental achievement in the action RPG genre. Its vast open world, intricate lore, and challenging gameplay offer an unparalleled experience for fans and newcomers alike. Whether you're delving into the lore, mastering combat mechanics, or exploring every nook and cranny of the Lands Between, Elden Ring provides a rich, rewarding adventure that sets a new standard for the genre.\n",
      "\n",
      "---\n",
      "Chunk 1:\n",
      "# Elden Ring: A Comprehensive Guide\n",
      "\n",
      "**Elden Ring** is an action RPG developed by FromSoftware and published by Bandai Namco Entertainment. Directed by Hidetaka Miyazaki, in collaboration with George R. R. Martin, the game blends the intricate lore and challenging gameplay FromSoftware is renowned for with a vast, open-world experience.\n",
      "\n",
      "---\n",
      "\n",
      "## Story and Setting\n",
      "Chunk 2:\n",
      "---\n",
      "\n",
      "## Story and Setting\n",
      "\n",
      "**Elden Ring** is set in the mystical world of the Lands Between, where the Elden Ring, a powerful artifact, has been shattered. Players assume the role of a Tarnished, one of many exiles summoned back to the Lands Between to restore the Elden Ring and become the Elden Lord. The narrative is rich and complex, with each region, character, and item contributing to the overarching lore. \n",
      "\n",
      "---\n",
      "\n",
      "## Gameplay Mechanics\n",
      "Answer this question: What is Elden Ring?\n",
      "\n"
     ]
    }
   ],
   "source": [
    "res = answer('What is Elden Ring?')"
   ]
  },
  {
   "cell_type": "code",
   "execution_count": 21,
   "id": "6021fb31-5671-4d4a-a873-107e47882a91",
   "metadata": {},
   "outputs": [
    {
     "name": "stdout",
     "output_type": "stream",
     "text": [
      "<think>\n",
      "Okay, so I need to figure out what Elden Ring is based on the provided knowledge base. Let me start by looking through the chunks.\n",
      "\n",
      "Chunk 0 is titled \"Conclusion\" about Elden Ring. It says it's a monumental action RPG with a vast open world and intricate lore. The gameplay feels challenging and sets a new standard for the genre, involving exploring different areas and mastering combat mechanics.\n",
      "\n",
      "Chunk 1 is a Comprehensive Guide that states Elden Ring is an action RPG developed by FromSoftware and published by Bandai Namco Entertainment. It's directed by Hidetaka Miyazaki, in collaboration with George R.R. Martin. This chunk gives the game's developer, publisher, and director along with its collaborative author.\n",
      "\n",
      "Chunk 2 starts but doesn't finish the section on \"Story and Setting.\" However, from Chunk 3 onwards, it seems to discuss Gameplay Mechanics. The previous answer explains that Elden Ring is an action RPG where players assume roles as Tarnished exiles to restore the Elden Ring and become the Elden Lord. The story has a rich lore with complex regions, characters, and items contributing to the overall narrative.\n",
      "\n",
      "So putting this together: Elden Ring is an action RPG developed by FromSoftware, published by Bandai Namco Entertainment. It's directed by Hidetaka Miyazaki, collaborating with George R.R. Martin. The game has a vast open world set in the Lands Between where players restore the shattered Elden Ring to become the Elden Lord.\n",
      "</think>\n",
      "\n",
      "Elden Ring is an action RPG developed by FromSoftware and published by Bandai Namco Entertainment. Directed by Hidetaka Miyazaki, it collaborates with George R.R. Martin. The game features a vast open-world setting in the Lands Between, where players assume the role of Tarnished exiles to restore the Elden Ring and become the Elden Lord. The game offers a rich narrative with complex lore, including various regions, characters, and items that contribute to its overarching story.\n"
     ]
    }
   ],
   "source": [
    "print(res)"
   ]
  },
  {
   "cell_type": "markdown",
   "id": "ee598fce-5f46-48ba-be3f-9dcf9eaf2cea",
   "metadata": {},
   "source": [
    "### Test 1"
   ]
  },
  {
   "cell_type": "code",
   "execution_count": 22,
   "id": "42bb8948-5ebf-4a23-8c1b-99e60905633e",
   "metadata": {},
   "outputs": [
    {
     "name": "stdout",
     "output_type": "stream",
     "text": [
      "\n",
      "I am helping the user to maintain a knowledge base - some local files.\n",
      "I will answer the user's questions strictly based on the content retrieved from the local files.\n",
      "Current question: Relevant text chunks retrieved from the knowledge base:\n",
      "Chunk 0:\n",
      "---\n",
      "\n",
      "## Multiplayer and Online Features\n",
      "\n",
      "**Co-op and PvP:**\n",
      "- **Co-op**: Players can summon others to help with tough areas or bosses, making the game more manageable.\n",
      "- **PvP**: Competitive multiplayer allows players to invade others' worlds, adding an element of risk and excitement.\n",
      "Chunk 1:\n",
      "**Special Features:**\n",
      "- **Spirit Ashes and Summons**: Players can summon spirits to assist in combat, each with unique abilities and roles.\n",
      "- **Mounted Combat**: Fighting on horseback adds a new layer of strategy.\n",
      "- **Multiplayer**: Both cooperative and competitive multiplayer modes are available, allowing players to interact, fight, or assist each other.\n",
      "\n",
      "---\n",
      "\n",
      "## World and Environment\n",
      "Chunk 2:\n",
      "**Asynchronous Features:**\n",
      "- **Messages**: Players can leave messages for others, providing hints or warnings.\n",
      "- **Bloodstains**: Viewing bloodstains shows how other players died, offering clues to potential dangers.\n",
      "\n",
      "---\n",
      "\n",
      "## Character Builds and Playstyles\n",
      "Answer this question: Does the game support multiplayer mode?\n",
      "\n"
     ]
    }
   ],
   "source": [
    "res = answer('Does the game support multiplayer mode?')"
   ]
  },
  {
   "cell_type": "code",
   "execution_count": 23,
   "id": "0a87805e-ede2-4c4c-9274-5314a836a4d3",
   "metadata": {},
   "outputs": [
    {
     "name": "stdout",
     "output_type": "stream",
     "text": [
      "<think>\n",
      "Okay, so I'm trying to figure out whether the game supports multiplayer mode based on the given knowledge base. Let me go through the chunks provided step by step.\n",
      "\n",
      "First, looking at Chunk 0 titled \"Multiplayer and Online Features.\" It mentions both Co-op and PvP. Co-op allows players to summon others for tough areas or bosses, making it easier. PvP is competitive, letting players invade others' worlds, adding risk and excitement. So that's two multiplayer modes: Co-op and PvP.\n",
      "\n",
      "Then in Chunk 1 under \"Special Features,\" it again lists Multiplayer along with other features like Spirit Ashes, Mounted Combat, etc. It specifically mentions both cooperative (Co-op) and competitive (PvP) multiplayer modes. So this reinforces the previous point from Chunk 0.\n",
      "\n",
      "Chunk 2 talks about Asynchronous Features with Messages and Bloodstains but doesn't mention anything specific to multiplayer beyond what's already covered in Chunks 0 and 1.\n",
      "\n",
      "Putting it all together, both chunks 0 and 1 consistently state that the game supports both Co-op (a type of multiplayer) and PvP (another form of multiplayer). There are no conflicting statements or mentions that suggest the absence of multiplayer support. Therefore, based on this information, it's clear that the game does support a multiplayer mode.\n",
      "\n",
      "I don't see any reason to doubt this conclusion since both chunks explicitly mention the availability of Co-op and PvP, which are distinct yet valid multiplayer modes. There's no indication in the provided text that these features aren't available or were removed.\n",
      "</think>\n",
      "\n",
      "The game supports multiplayer mode through both Co-op and PvP features. These modes allow players to cooperate with others during challenging areas or engage in competitive invasions of others' worlds. The information from the knowledge base consistently confirms the availability of these multiplayer options.\n"
     ]
    }
   ],
   "source": [
    "print(res)"
   ]
  },
  {
   "cell_type": "markdown",
   "id": "4773aad8-db37-4b1f-b44f-52d0c3e078e8",
   "metadata": {},
   "source": [
    "### Test 2"
   ]
  },
  {
   "cell_type": "code",
   "execution_count": 24,
   "id": "1ecbce56-9acd-49b0-bf85-5f79fbdfa060",
   "metadata": {},
   "outputs": [
    {
     "name": "stdout",
     "output_type": "stream",
     "text": [
      "\n",
      "I am helping the user to maintain a knowledge base - some local files.\n",
      "I will answer the user's questions strictly based on the content retrieved from the local files.\n",
      "Current question: Relevant text chunks retrieved from the knowledge base:\n",
      "Chunk 0:\n",
      "---\n",
      "\n",
      "## Technical and Artistic Aspects\n",
      "\n",
      "**Graphics and Art Style:**\n",
      "- **Visuals**: Stunning graphics that blend gothic and high fantasy elements.\n",
      "- **Art Direction**: A unique art style that enhances the game's atmosphere and storytelling.\n",
      "\n",
      "**Audio:**\n",
      "- **Soundtrack**: Composed by Yuka Kitamura and others, the music enhances the mood and intensity of the game.\n",
      "- **Voice Acting**: High-quality voice acting brings characters and lore to life.\n",
      "\n",
      "---\n",
      "\n",
      "## Development and Release\n",
      "Chunk 1:\n",
      "---\n",
      "\n",
      "## Development and Release\n",
      "\n",
      "**History:**\n",
      "- **Announcement**: First revealed in 2019, developed by FromSoftware and directed by Hidetaka Miyazaki, with world-building by George R. R. Martin.\n",
      "- **Release Date**: Released on February 25, 2022, for PlayStation 4, PlayStation 5, Xbox One, Xbox Series X/S, and Microsoft Windows.\n",
      "Chunk 2:\n",
      "# Elden Ring: A Comprehensive Guide\n",
      "\n",
      "**Elden Ring** is an action RPG developed by FromSoftware and published by Bandai Namco Entertainment. Directed by Hidetaka Miyazaki, in collaboration with George R. R. Martin, the game blends the intricate lore and challenging gameplay FromSoftware is renowned for with a vast, open-world experience.\n",
      "\n",
      "---\n",
      "\n",
      "## Story and Setting\n",
      "Answer this question: Who produced the soundtrack for the game?\n",
      "\n"
     ]
    }
   ],
   "source": [
    "res = answer('Who produced the soundtrack for the game?')"
   ]
  },
  {
   "cell_type": "code",
   "execution_count": 25,
   "id": "0bbf0976-760a-486b-bfc8-a94dc9d73777",
   "metadata": {},
   "outputs": [
    {
     "name": "stdout",
     "output_type": "stream",
     "text": [
      "<think>\n",
      "Alright, I need to figure out who produced the soundtrack for Elden Ring based on the provided knowledge base. Let me go through each chunk step by step.\n",
      "\n",
      "First, looking at Chunk 0, it's about technical and artistic aspects, including graphics and art style, as well as audio components like the soundtrack and voice acting. Under \"Audio: Soundtrack,\" it mentions that the soundtrack is composed by Yuka Kitamura and others. So that gives a direct answer from the knowledge base.\n",
      "\n",
      "Then, Chunk 1 discusses development and release history. It doesn't mention anything about the soundtrack here, so I can ignore this chunk for this specific question.\n",
      "\n",
      "Chunk 2 is titled \"# Elden Ring: A Comprehensive Guide.\" It provides an overview of Elden Ring, mentioning that it's developed by FromSoftware and published by Bandai Namco Entertainment. The guide talks about the game's story, setting, graphics, etc., but again, no mention of the soundtrack here.\n",
      "\n",
      "Putting this together, the knowledge base explicitly states in Chunk 0 that the soundtrack is composed by Yuka Kitamura and others. Therefore, the answer should be based on that information without needing to infer from other chunks.\n",
      "</think>\n",
      "\n",
      "The soundtrack for Elden Ring was produced by Yuka Kitamura and others, as mentioned in the technical aspects of the game's development.\n",
      "\n",
      "**Answer:**  \n",
      "The soundtrack for Elden Ring was produced by Yuka Kitamura and others.\n"
     ]
    }
   ],
   "source": [
    "print(res)"
   ]
  }
 ],
 "metadata": {
  "kernelspec": {
   "display_name": "Edge AI",
   "language": "python",
   "name": "edge-ai"
  },
  "language_info": {
   "codemirror_mode": {
    "name": "ipython",
    "version": 3
   },
   "file_extension": ".py",
   "mimetype": "text/x-python",
   "name": "python",
   "nbconvert_exporter": "python",
   "pygments_lexer": "ipython3",
   "version": "3.12.7"
  }
 },
 "nbformat": 4,
 "nbformat_minor": 5
}
