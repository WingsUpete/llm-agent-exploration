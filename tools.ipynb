{
 "cells": [
  {
   "cell_type": "markdown",
   "id": "784a25f9-91da-4a8b-841f-be21f644735b",
   "metadata": {},
   "source": [
    "# Tools / Function Call"
   ]
  },
  {
   "cell_type": "markdown",
   "id": "d3e3d75e-34d8-4684-ba46-dd74af81b5a4",
   "metadata": {},
   "source": [
    "Here we follow [this tutorial](https://github.com/LangGraph-GUI/LangGraph-learn/tree/main/05%20Agents%20with%20Tool)."
   ]
  },
  {
   "cell_type": "markdown",
   "id": "3d64acf3-3884-418f-9554-ed3e9e8a5646",
   "metadata": {},
   "source": [
    "## TRPG Agent for Dungeons & Dragons (DnD)"
   ]
  },
  {
   "cell_type": "markdown",
   "id": "974520d7-60f5-4b7b-ba29-9885fb71acb4",
   "metadata": {},
   "source": [
    "In [this demo](https://github.com/LangGraph-GUI/LangGraph-learn/tree/main/05%20Agents%20with%20Tool), we create two agents (Dungeon Master - DM, and Player) to play a Dungeons & Dragons TRPG game. Essentially, there is a tool for dice rolling. When necessary, the DM needs to decide whether or not to use this tool to specify what happens in the future."
   ]
  },
  {
   "cell_type": "markdown",
   "id": "91f576c2-8c62-4022-9dba-a34869ab745c",
   "metadata": {},
   "source": [
    "For more information about how DnD is played, check the [Wiki page](https://en.wikipedia.org/wiki/Dungeons_%26_Dragons)."
   ]
  },
  {
   "cell_type": "code",
   "execution_count": 1,
   "id": "67384b1f-6077-44ed-b78f-12f1cc1c85db",
   "metadata": {},
   "outputs": [],
   "source": [
    "from langgraph.graph import StateGraph, END\n",
    "from langchain_ollama import ChatOllama\n",
    "from langchain_core.prompts import PromptTemplate\n",
    "from langchain_core.output_parsers import StrOutputParser\n",
    "from typing import TypedDict\n",
    "import random\n",
    "import json\n",
    "from abc import ABC, abstractmethod"
   ]
  },
  {
   "cell_type": "code",
   "execution_count": 2,
   "id": "900d36c6-84c0-4c5f-b567-509b303a6042",
   "metadata": {},
   "outputs": [],
   "source": [
    "# initialize the ChatOllama model with desired parameters\n",
    "# https://pypi.org/project/langchain-ollama/\n",
    "# https://python.langchain.com/docs/integrations/chat/ollama/\n",
    "# https://python.langchain.com/api_reference/ollama/chat_models/langchain_ollama.chat_models.ChatOllama.html\n",
    "llm = ChatOllama(model=\"qwen2.5:7b\", format=\"json\")"
   ]
  },
  {
   "cell_type": "code",
   "execution_count": 3,
   "id": "f9498b36-5c4f-4f68-a04a-83c2a5ff3d4b",
   "metadata": {},
   "outputs": [],
   "source": [
    "# clip the history to the last 8000 characters\n",
    "def clip_history(histroy: str, max_chars: int = 8000) -> str:\n",
    "    if len(histroy) > max_chars:\n",
    "        return histroy[-max_chars:]\n",
    "    return histroy"
   ]
  },
  {
   "cell_type": "code",
   "execution_count": 4,
   "id": "2a4c4c54-55d5-4c15-9c9c-69e52993f0e4",
   "metadata": {},
   "outputs": [],
   "source": [
    "# state\n",
    "class TrpgState(TypedDict):\n",
    "    history: str\n",
    "    need_roll: bool\n",
    "    roll_number: int"
   ]
  },
  {
   "cell_type": "code",
   "execution_count": 5,
   "id": "3d2c3a26-c382-496f-8a9f-38fa7787b81f",
   "metadata": {},
   "outputs": [],
   "source": [
    "# base class of agents\n",
    "class AgentBase(ABC):\n",
    "    def __init__(self, state: TrpgState):\n",
    "        self.state = state\n",
    "\n",
    "    @abstractmethod\n",
    "    def get_prompt_template(self) -> str:\n",
    "        pass\n",
    "\n",
    "    def execute(self) -> TrpgState:\n",
    "        # clip history if too long\n",
    "        self.state['history'] = clip_history(self.state['history'])\n",
    "        # define prompt template\n",
    "        template = self.get_prompt_template()\n",
    "        prompt = PromptTemplate.from_template(template)\n",
    "        # define and invoke llm chain\n",
    "        llm_chain = prompt | llm | StrOutputParser()\n",
    "        generation = llm_chain.invoke({\n",
    "            'history': self.state['history'],\n",
    "            'roll_number': self.state['roll_number']\n",
    "        })\n",
    "        # parse result\n",
    "        data = json.loads(generation)\n",
    "        self.state['need_roll'] = data.get('need_roll', False)\n",
    "        self.state['roll_number'] = -1\n",
    "        # append new history\n",
    "        self.state['history'] += '\\n' + generation\n",
    "        self.state['history'] = clip_history(self.state['history'])\n",
    "        return self.state"
   ]
  },
  {
   "cell_type": "code",
   "execution_count": 6,
   "id": "4c1fbe2d-1701-41cb-a80a-863703387659",
   "metadata": {},
   "outputs": [],
   "source": [
    "# Dungeon Master (DM)\n",
    "class DM(AgentBase):\n",
    "    tag = 'dungeon_master'\n",
    "    \n",
    "    def get_prompt_template(self) -> str:\n",
    "        return \"\"\"\n",
    "            {history}\n",
    "            As DnD DM, describe the current scenario for the player.\n",
    "            In the first round, I do not need to roll the dice.\n",
    "            When the player specifies an action, decide whether I need to throw a dice, and if a dice is rolled what will happen based on the rolling result.\n",
    "            After rolling the dice for the player (i.e., the history ends with a dice rolling number), there is no need to roll a second time.\n",
    "            The current rolling result is {roll_number}, if roll_number > 0, I need to explain how the roll affects the result (e.g., According to dice rolling, ...).\n",
    "            Output in strict JSON format with no extra spaces, the JSON format is: {{'scenario': 'your action description', 'need_roll': True/False}}\n",
    "        \"\"\"\n",
    "\n",
    "    def dm_node(state: TrpgState) -> TrpgState:\n",
    "        print('> DM is planning...')\n",
    "        return DM(state).execute()"
   ]
  },
  {
   "cell_type": "code",
   "execution_count": 7,
   "id": "1eb96c85-79c5-458a-96ea-3ccf49957b66",
   "metadata": {},
   "outputs": [],
   "source": [
    "# Player\n",
    "class Player(AgentBase):\n",
    "    tag = 'player'\n",
    "    \n",
    "    def get_prompt_template(self) -> str:\n",
    "        return \"\"\"\n",
    "            As a Player from a DnD game, I need to specify an action every round according to the given scenario from the DM.\n",
    "            I need to follow the current scenario and give different actions that make sense.\n",
    "            Here is the interaction history (scenarios are from DM and actions are from me, the last scenario is the current scenario): {history}\n",
    "            Output in strict JSON format with no extra spaces, the JSON format is: {{'action': 'my decided action (e.g., I want to ...)'}}\n",
    "        \"\"\"\n",
    "\n",
    "    def player_node(state: TrpgState) -> TrpgState:\n",
    "        print('> Player is thinking...')\n",
    "        return Player(state).execute()"
   ]
  },
  {
   "cell_type": "markdown",
   "id": "c32ac19d-a197-473a-a6bd-71bc1e2bce4a",
   "metadata": {},
   "source": [
    "Now we define a tool - a function to roll the dice."
   ]
  },
  {
   "cell_type": "code",
   "execution_count": 8,
   "id": "f66c1426-4ea1-42dc-94ab-c905d1e89212",
   "metadata": {},
   "outputs": [],
   "source": [
    "# dice rolling tool\n",
    "DICE_NODE_NAME = 'dice'\n",
    "def DiceRolling(state: TrpgState) -> TrpgState:\n",
    "    print('> Rolling the dice...')\n",
    "    random_num = random.randint(1, 20)\n",
    "    state['history'] += f'\\nroll result:{random_num}'\n",
    "    state['history'] = clip_history(state['history'])\n",
    "    state['need_roll'] = False  # reset\n",
    "    state['roll_number'] = random_num\n",
    "    return state"
   ]
  },
  {
   "cell_type": "markdown",
   "id": "367ab5d7-edab-4392-8d09-e756a3c935d2",
   "metadata": {},
   "source": [
    "Then we define a conditional edge to decide which node to go to for dice rolling logic."
   ]
  },
  {
   "cell_type": "code",
   "execution_count": 9,
   "id": "4005069c-e5e3-486d-af68-0ebf5b46fa9e",
   "metadata": {},
   "outputs": [],
   "source": [
    "# conditional edge - check whether dice rolling is needed\n",
    "def check_need_roll(state: TrpgState):\n",
    "    if state.get('need_roll'):\n",
    "        print('> Need to roll the dice.')\n",
    "        return DICE_NODE_NAME\n",
    "    else:\n",
    "        # no need to roll, go back to player\n",
    "        return Player.tag"
   ]
  },
  {
   "cell_type": "markdown",
   "id": "d0df26f4-e4a6-4d69-ae49-45fca9011594",
   "metadata": {},
   "source": [
    "Now we create a State Graph."
   ]
  },
  {
   "cell_type": "code",
   "execution_count": 10,
   "id": "b2c4c933-3221-49e3-b25c-20bc5d4f3b72",
   "metadata": {},
   "outputs": [],
   "source": [
    "# create a graph where each function is a node\n",
    "workflow = StateGraph(TrpgState)\n",
    "workflow.add_node(DM.tag, DM.dm_node)\n",
    "workflow.add_node(Player.tag, Player.player_node)\n",
    "workflow.add_node(DICE_NODE_NAME, DiceRolling)\n",
    "workflow.set_entry_point(DM.tag)  # starts from the dungeon master\n",
    "workflow.add_conditional_edges(DM.tag, check_need_roll)  # DM decides whether to roll a dice\n",
    "workflow.add_edge(Player.tag, DM.tag)  # Player tells DM what he wants to do\n",
    "_ = workflow.add_edge(DICE_NODE_NAME, DM.tag)  # dice rolling result passed to DM to describe what will happen"
   ]
  },
  {
   "cell_type": "markdown",
   "id": "f86e273a-c2f5-4ae1-bc8c-3c272b91590b",
   "metadata": {},
   "source": [
    "Now we test~"
   ]
  },
  {
   "cell_type": "code",
   "execution_count": 11,
   "id": "e4052a26-4659-4ba4-9166-85fd6f5e3522",
   "metadata": {},
   "outputs": [],
   "source": [
    "# compile the workflow\n",
    "app = workflow.compile()"
   ]
  },
  {
   "cell_type": "code",
   "execution_count": 12,
   "id": "0d172ad1-9bd8-4719-92db-944ac1c2196b",
   "metadata": {},
   "outputs": [],
   "source": [
    "# number of rounds to play\n",
    "rounds = 3\n",
    "# initial state: since the player is not involved yet, \n",
    "# no need to roll the dice and no former dice rolling result\n",
    "initial_state = TrpgState(\n",
    "    history='A monster appears in front of you.',\n",
    "    need_roll=False,\n",
    "    roll_number=-1\n",
    ")"
   ]
  },
  {
   "cell_type": "code",
   "execution_count": 13,
   "id": "88b91cc9-4e5d-45f3-93a3-91b83dcfa242",
   "metadata": {},
   "outputs": [
    {
     "name": "stdout",
     "output_type": "stream",
     "text": [
      "> DM is planning...\n",
      "> Need to roll the dice.\n",
      "> Round 0 - dungeon_master:\n",
      "> Need to roll = True; Roll number = -1\n",
      "^^^^^^^^^^^^^^^^^^^^\n",
      "> History: A monster appears in front of you.\n",
      "{\"scenario\":\"A towering goblinoid monster steps into view, its body a twisted mass of green flesh and iron spikes. It snarls at you, revealing sharp fangs. The monster stands ready to attack.\",\"need_roll\":true}\n",
      "vvvvvvvvvvvvvvvvvvvv\n",
      "> Rolling the dice...\n",
      "> Round 0 - dice:\n",
      "> Need to roll = False; Roll number = 9\n",
      "^^^^^^^^^^^^^^^^^^^^\n",
      "> History: A monster appears in front of you.\n",
      "{\"scenario\":\"A towering goblinoid monster steps into view, its body a twisted mass of green flesh and iron spikes. It snarls at you, revealing sharp fangs. The monster stands ready to attack.\",\"need_roll\":true}\n",
      "roll result:9\n",
      "vvvvvvvvvvvvvvvvvvvv\n",
      "> DM is planning...\n",
      "> Round 0 - dungeon_master:\n",
      "> Need to roll = False; Roll number = -1\n",
      "^^^^^^^^^^^^^^^^^^^^\n",
      "> History: A monster appears in front of you.\n",
      "{\"scenario\":\"A towering goblinoid monster steps into view, its body a twisted mass of green flesh and iron spikes. It snarls at you, revealing sharp fangs. The monster stands ready to attack.\",\"need_roll\":true}\n",
      "roll result:9\n",
      "{\"scenario\":\"As you prepare to act, the towering goblinoid monster lunges at you, its iron spikes glinting menacingly. According to dice rolling, your initial attempt to dodge or react quickly is moderately successful, buying you some time but not completely avoiding its first strike.\",\"need_roll\":false}\n",
      "vvvvvvvvvvvvvvvvvvvv\n",
      "> Player is thinking...\n",
      "-----------------------\n",
      "> Round 1 - player:\n",
      "> Need to roll = False; Roll number = -1\n",
      "^^^^^^^^^^^^^^^^^^^^\n",
      "> History: A monster appears in front of you.\n",
      "{\"scenario\":\"A towering goblinoid monster steps into view, its body a twisted mass of green flesh and iron spikes. It snarls at you, revealing sharp fangs. The monster stands ready to attack.\",\"need_roll\":true}\n",
      "roll result:9\n",
      "{\"scenario\":\"As you prepare to act, the towering goblinoid monster lunges at you, its iron spikes glinting menacingly. According to dice rolling, your initial attempt to dodge or react quickly is moderately successful, buying you some time but not completely avoiding its first strike.\",\"need_roll\":false}\n",
      "{\"action\":\"I want to swing my sword at the monster's exposed flank as it lunges.\"}\n",
      "vvvvvvvvvvvvvvvvvvvv\n",
      "> DM is planning...\n",
      "> Round 1 - dungeon_master:\n",
      "> Need to roll = False; Roll number = -1\n",
      "^^^^^^^^^^^^^^^^^^^^\n",
      "> History: A monster appears in front of you.\n",
      "{\"scenario\":\"A towering goblinoid monster steps into view, its body a twisted mass of green flesh and iron spikes. It snarls at you, revealing sharp fangs. The monster stands ready to attack.\",\"need_roll\":true}\n",
      "roll result:9\n",
      "{\"scenario\":\"As you prepare to act, the towering goblinoid monster lunges at you, its iron spikes glinting menacingly. According to dice rolling, your initial attempt to dodge or react quickly is moderately successful, buying you some time but not completely avoiding its first strike.\",\"need_roll\":false}\n",
      "{\"action\":\"I want to swing my sword at the monster's exposed flank as it lunges.\"}\n",
      "{\"scenario\":\"You swing your sword at the towering goblinoid monster's exposed flank as it lunges. The iron spikes on its body catch the light menacingly. According to dice rolling, your attack hits but does not deal a critical blow, inflicting moderate damage.\",\"need_roll\":false}\n",
      "vvvvvvvvvvvvvvvvvvvv\n",
      "> Player is thinking...\n",
      "-----------------------\n",
      "> Round 2 - player:\n",
      "> Need to roll = False; Roll number = -1\n",
      "^^^^^^^^^^^^^^^^^^^^\n",
      "> History: A monster appears in front of you.\n",
      "{\"scenario\":\"A towering goblinoid monster steps into view, its body a twisted mass of green flesh and iron spikes. It snarls at you, revealing sharp fangs. The monster stands ready to attack.\",\"need_roll\":true}\n",
      "roll result:9\n",
      "{\"scenario\":\"As you prepare to act, the towering goblinoid monster lunges at you, its iron spikes glinting menacingly. According to dice rolling, your initial attempt to dodge or react quickly is moderately successful, buying you some time but not completely avoiding its first strike.\",\"need_roll\":false}\n",
      "{\"action\":\"I want to swing my sword at the monster's exposed flank as it lunges.\"}\n",
      "{\"scenario\":\"You swing your sword at the towering goblinoid monster's exposed flank as it lunges. The iron spikes on its body catch the light menacingly. According to dice rolling, your attack hits but does not deal a critical blow, inflicting moderate damage.\",\"need_roll\":false}\n",
      "{\"action\":\"I will parry with my sword and try to block its next attack while looking for an opening.\"}\n",
      "vvvvvvvvvvvvvvvvvvvv\n",
      "> DM is planning...\n",
      "> Round 2 - dungeon_master:\n",
      "> Need to roll = False; Roll number = -1\n",
      "^^^^^^^^^^^^^^^^^^^^\n",
      "> History: A monster appears in front of you.\n",
      "{\"scenario\":\"A towering goblinoid monster steps into view, its body a twisted mass of green flesh and iron spikes. It snarls at you, revealing sharp fangs. The monster stands ready to attack.\",\"need_roll\":true}\n",
      "roll result:9\n",
      "{\"scenario\":\"As you prepare to act, the towering goblinoid monster lunges at you, its iron spikes glinting menacingly. According to dice rolling, your initial attempt to dodge or react quickly is moderately successful, buying you some time but not completely avoiding its first strike.\",\"need_roll\":false}\n",
      "{\"action\":\"I want to swing my sword at the monster's exposed flank as it lunges.\"}\n",
      "{\"scenario\":\"You swing your sword at the towering goblinoid monster's exposed flank as it lunges. The iron spikes on its body catch the light menacingly. According to dice rolling, your attack hits but does not deal a critical blow, inflicting moderate damage.\",\"need_roll\":false}\n",
      "{\"action\":\"I will parry with my sword and try to block its next attack while looking for an opening.\"}\n",
      "{\"scenario\":\"The towering goblinoid monster's next attack swings towards you. You parry with your sword, managing to block its blade but feeling the force of the blow as it grunts in anger. The monster readies itself for another strike, eyes fixed on you. You now have an opening to look for a better chance at dealing more damage.\",\"need_roll\":false}\n",
      "vvvvvvvvvvvvvvvvvvvv\n",
      "> Player is thinking...\n",
      "-----------------------\n",
      "> Round 3 - player:\n",
      "> Need to roll = False; Roll number = -1\n",
      "^^^^^^^^^^^^^^^^^^^^\n",
      "> History: A monster appears in front of you.\n",
      "{\"scenario\":\"A towering goblinoid monster steps into view, its body a twisted mass of green flesh and iron spikes. It snarls at you, revealing sharp fangs. The monster stands ready to attack.\",\"need_roll\":true}\n",
      "roll result:9\n",
      "{\"scenario\":\"As you prepare to act, the towering goblinoid monster lunges at you, its iron spikes glinting menacingly. According to dice rolling, your initial attempt to dodge or react quickly is moderately successful, buying you some time but not completely avoiding its first strike.\",\"need_roll\":false}\n",
      "{\"action\":\"I want to swing my sword at the monster's exposed flank as it lunges.\"}\n",
      "{\"scenario\":\"You swing your sword at the towering goblinoid monster's exposed flank as it lunges. The iron spikes on its body catch the light menacingly. According to dice rolling, your attack hits but does not deal a critical blow, inflicting moderate damage.\",\"need_roll\":false}\n",
      "{\"action\":\"I will parry with my sword and try to block its next attack while looking for an opening.\"}\n",
      "{\"scenario\":\"The towering goblinoid monster's next attack swings towards you. You parry with your sword, managing to block its blade but feeling the force of the blow as it grunts in anger. The monster readies itself for another strike, eyes fixed on you. You now have an opening to look for a better chance at dealing more damage.\",\"need_roll\":false}\n",
      "{\"action\":\"I will thrust my sword upward towards the monster's throat as it readies another attack.\"}\n",
      "vvvvvvvvvvvvvvvvvvvv\n",
      "> END\n"
     ]
    }
   ],
   "source": [
    "cur_round = 0\n",
    "for s in app.stream(initial_state):\n",
    "    if Player.tag in s:\n",
    "        cur_round += 1\n",
    "        print('-----------------------')\n",
    "    cur_agent = list(s.keys())[-1]\n",
    "    cur_state = list(s.values())[-1]\n",
    "    print(f'> Round {cur_round} - {cur_agent}:')\n",
    "    print(f'> Need to roll = {cur_state[\"need_roll\"]}; Roll number = {cur_state[\"roll_number\"]}')\n",
    "    print('^^^^^^^^^^^^^^^^^^^^')\n",
    "    print(f'> History: {cur_state[\"history\"].strip()}')\n",
    "    print('vvvvvvvvvvvvvvvvvvvv')\n",
    "    if cur_round == rounds:\n",
    "        print('> END')\n",
    "        break"
   ]
  },
  {
   "cell_type": "markdown",
   "id": "e902bf72-d506-4140-bdc9-8b2be6318124",
   "metadata": {},
   "source": [
    "## Another Example About Tools"
   ]
  },
  {
   "cell_type": "markdown",
   "id": "0658669d-5c6a-45aa-bacc-2aa4c71ccead",
   "metadata": {},
   "source": [
    "[Another demo](https://github.com/LangGraph-GUI/LangGraph-learn/tree/main/06%20Agent%20Choose%20Tool) here describes a scenario where a chat agent serves as an orchestrator to decide whether or not to use tools to answer the user's question. If the chat agent decides to use tools, he will forward the request to the tool agent to further decide which specific tool to use and what parameters to pass."
   ]
  },
  {
   "cell_type": "markdown",
   "id": "d9c8a7c9-dd90-4adb-8cf7-12b729a33a88",
   "metadata": {},
   "source": [
    "The implementation logic is pretty much similar to the DnD one, except that here we define an annotation method `@tool` to automatically manage a tool base for the agents. We will not demonstrate here."
   ]
  }
 ],
 "metadata": {
  "kernelspec": {
   "display_name": "Edge AI",
   "language": "python",
   "name": "edge-ai"
  },
  "language_info": {
   "codemirror_mode": {
    "name": "ipython",
    "version": 3
   },
   "file_extension": ".py",
   "mimetype": "text/x-python",
   "name": "python",
   "nbconvert_exporter": "python",
   "pygments_lexer": "ipython3",
   "version": "3.10.16"
  }
 },
 "nbformat": 4,
 "nbformat_minor": 5
}
