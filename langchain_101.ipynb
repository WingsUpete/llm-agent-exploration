{
 "cells": [
  {
   "cell_type": "markdown",
   "id": "ca539880-3be1-4991-b1b3-913c0494d902",
   "metadata": {},
   "source": [
    "# LangChain Intro"
   ]
  },
  {
   "cell_type": "markdown",
   "id": "ed56172d-3665-4acf-9bcd-8373be0c0096",
   "metadata": {},
   "source": [
    "Here we follow [this tutorial](https://github.com/LangGraph-GUI/LangGraph-learn/tree/main/01%20LangChain%20Hello%20World)."
   ]
  },
  {
   "cell_type": "markdown",
   "id": "87cda0a9-bcb7-47dc-b796-0ab815afe97d",
   "metadata": {},
   "source": [
    "## Prerequisites"
   ]
  },
  {
   "cell_type": "markdown",
   "id": "2736e25a-986c-4bfc-a244-b38a5850c5b0",
   "metadata": {},
   "source": [
    "1. `ollama` server\n",
    "2. `langchain-ollama`\n",
    "3. `langchain-core`"
   ]
  },
  {
   "cell_type": "markdown",
   "id": "ed902c99-9971-49d6-911e-bc573d6c5292",
   "metadata": {},
   "source": [
    "## Operations"
   ]
  },
  {
   "cell_type": "code",
   "execution_count": 1,
   "id": "b2a332a1-f0e8-4422-a82a-44d135eb85da",
   "metadata": {},
   "outputs": [],
   "source": [
    "from langchain_ollama import ChatOllama\n",
    "from langchain_core.prompts import PromptTemplate\n",
    "from langchain_core.output_parsers import StrOutputParser"
   ]
  },
  {
   "cell_type": "code",
   "execution_count": 2,
   "id": "f67d4ec7-0565-4c0f-b819-184e96b8d921",
   "metadata": {},
   "outputs": [],
   "source": [
    "# initialize the ChatOllama model with desired parameters\n",
    "# https://pypi.org/project/langchain-ollama/\n",
    "# https://api-docs.deepseek.com/quick_start/parameter_settings\n",
    "llm = ChatOllama(model=\"deepseek-r1:7b\", temperature=1.3)"
   ]
  },
  {
   "cell_type": "code",
   "execution_count": 3,
   "id": "5e6c8088-24b3-41c9-8cb2-ec2f18a45871",
   "metadata": {},
   "outputs": [],
   "source": [
    "# define the prompt template\n",
    "template = \"Question: {question}\\nAnswer: Let's think step by step.\"\n",
    "prompt = PromptTemplate.from_template(template)"
   ]
  },
  {
   "cell_type": "code",
   "execution_count": 4,
   "id": "cf8dba08-93ea-4159-b68d-c605bb72d3c4",
   "metadata": {},
   "outputs": [],
   "source": [
    "# define langchain\n",
    "llm_chain = prompt | llm | StrOutputParser()"
   ]
  },
  {
   "cell_type": "markdown",
   "id": "c4c546f6-bc45-4178-89b6-f18d9f321053",
   "metadata": {},
   "source": [
    "Now test~"
   ]
  },
  {
   "cell_type": "code",
   "execution_count": 5,
   "id": "2d73b043-0e58-4ab7-a0f7-a6fba844d91b",
   "metadata": {},
   "outputs": [
    {
     "name": "stdout",
     "output_type": "stream",
     "text": [
      "<think>\n",
      "Okay, so I'm trying to figure out which came first: a chick or a chicken egg. At first glance, it seems pretty straightforward because I know eggs are usually tied to hatching chicks, but I guess the question is asking about the origin of each concept.\n",
      "\n",
      "Let me start by breaking down what I know. An egg is the receptacle in which an embryo is placed inside a female animal for incubation. Chick refers specifically to young chickens. So, when we talk about \"chick,\" we're usually referring to a baby chicken that has hatched from its first egg. \n",
      "\n",
      "Now, considering the origin of these terms, \"egg\" might have been used much earlier in human language because it's something many animals produce. Chick is a more specific term related to birds. I'm not sure when exactly \"chick\" came into use, but \"egg\" probably predates that.\n",
      "\n",
      "So, if we look at the evolution of language, eggs would have been described long before chickens became part of the vocabulary in connection with their eggs. Chickens as a species are much more recent in evolutionary terms, but from a linguistic standpoint, since \"chick\" is tied to hatching birds, it's likely that people first talked about chicks (hatched ones) way before they started referring specifically to chicken eggs.\n",
      "\n",
      "Additionally, in many languages, the word for egg precedes the terms specific to certain animals. For example, in many European languages, there are general words for egg, and then specific terms like \"chicken\" or \"chick.\" So that reinforces the idea that eggs were discussed before chickens themselves became significant enough to have their own terms.\n",
      "\n",
      "Another angle is historical context: when humans domesticated chickens thousands of years ago, they would have started referring to them specifically as chickens, and thus their eggs too. But the term \"egg\" itself has been in use much longer historically for all types of animals, while specific terms like \"chicken\" emerged later when that animal became significant.\n",
      "\n",
      "So putting this together, I think the egg must have come first before the chick because humans first used the more general term \"egg\" way before they had specific terms like \"chick.\" The specific association between an egg and a hatched chicken (a chick) comes much later.\n",
      "</think>\n",
      "\n",
      "The answer is that an egg came first. \n",
      "\n",
      "Step-by-step Explanation:\n",
      "\n",
      "1. **Understanding Terms**: \n",
      "   - An \"egg\" refers to the receptacle in which an embryo is placed, common across various animals.\n",
      "   - A \"chick\" specifically refers to a baby chicken.\n",
      "\n",
      "2. **Origin of Words**:\n",
      "   - The term \"egg\" has been part of human language for much longer than specific terms like \"chick.\"\n",
      "   - \"Chick\" became more specific with the domestication of chickens, which is a later development in history.\n",
      "\n",
      "3. **Language Evolution**:\n",
      "   - General terms for eggs (applicable to all animals) precede specific animal-related terms, such as \"chicken.\"\n",
      "\n",
      "4. **Historical Context**:\n",
      "   - The domestication of chickens led to specific terminology (\"chick\") much later than the general term \"egg\" was used.\n",
      "\n",
      "Conclusion: Eggs were discussed long before the concept of a specific chicken chick emerged, so eggs came first.\n"
     ]
    }
   ],
   "source": [
    "formatted_prompt = prompt.format(question=\"Which one comes first? A chick or a chicken egg?\")\n",
    "res = llm_chain.invoke(formatted_prompt)\n",
    "print(res)"
   ]
  }
 ],
 "metadata": {
  "kernelspec": {
   "display_name": "Edge AI",
   "language": "python",
   "name": "edge-ai"
  },
  "language_info": {
   "codemirror_mode": {
    "name": "ipython",
    "version": 3
   },
   "file_extension": ".py",
   "mimetype": "text/x-python",
   "name": "python",
   "nbconvert_exporter": "python",
   "pygments_lexer": "ipython3",
   "version": "3.10.16"
  }
 },
 "nbformat": 4,
 "nbformat_minor": 5
}
