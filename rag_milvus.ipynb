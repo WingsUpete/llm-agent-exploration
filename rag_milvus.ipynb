{
 "cells": [
  {
   "cell_type": "markdown",
   "id": "7b3012e4-25db-4fb0-a943-70b5f9de4fa0",
   "metadata": {},
   "source": [
    "# RAG with Milvus"
   ]
  },
  {
   "cell_type": "markdown",
   "id": "2bd6e74e-8d9b-4e0d-bd8c-d5d29af7caa7",
   "metadata": {},
   "source": [
    "This notebook examines how to do basic RAG in [Milvus](https://milvus.io/) vector DB.\n",
    "\n",
    "**NOTE: Please check `rag.ipynb` first!**"
   ]
  },
  {
   "cell_type": "markdown",
   "id": "b02c62a7-e5eb-480c-a807-700bde518297",
   "metadata": {},
   "source": [
    "## Prerequisites"
   ]
  },
  {
   "cell_type": "markdown",
   "id": "46c42d26-45e6-4a49-a74c-2eded3892c1e",
   "metadata": {},
   "source": [
    "1. `ollama` server\n",
    "2. `ollama`: Ollama Python Library.\n",
    "3. `langchain`\n",
    "4. `pymilvus`: Milvus is a vector DB.\n",
    "5. `pymilvus[model]`: for default Milvus embedding model."
   ]
  },
  {
   "cell_type": "code",
   "execution_count": 1,
   "id": "765a0fa8-499d-4758-9f10-2bd276b81752",
   "metadata": {},
   "outputs": [],
   "source": [
    "# llm_name = 'deepseek-r1:7b'\n",
    "llm_name = 'gemma3:12b'\n",
    "ollama_hostname = 'http://localhost:11434'\n",
    "file_path = 'files/elden_ring.md'"
   ]
  },
  {
   "cell_type": "markdown",
   "id": "16fff2e2-092d-4139-9c82-3898145163e4",
   "metadata": {},
   "source": [
    "## Preprocessing External Files"
   ]
  },
  {
   "cell_type": "markdown",
   "id": "2be8f5bd-fd6f-419b-9a50-51da2ff20b96",
   "metadata": {},
   "source": [
    "We will work on the same external markdown file for this demo."
   ]
  },
  {
   "cell_type": "markdown",
   "id": "ffcb336b-c1dd-443f-9e53-99ae3e7033ac",
   "metadata": {},
   "source": [
    "### Load File & Split Text"
   ]
  },
  {
   "cell_type": "code",
   "execution_count": 2,
   "id": "c8f3e35a-7c09-482b-88ee-eb3232c4351c",
   "metadata": {},
   "outputs": [],
   "source": [
    "def load_file_content(file_path):\n",
    "    with open(file_path, encoding='utf-8') as f:\n",
    "        return f.read()"
   ]
  },
  {
   "cell_type": "code",
   "execution_count": 3,
   "id": "ba1cebd6-0e7e-4c23-9e45-1e84b9929661",
   "metadata": {},
   "outputs": [
    {
     "name": "stdout",
     "output_type": "stream",
     "text": [
      "# Elden Ring: A Comprehensive Guide\n",
      "\n",
      "**Elden Ring** is an action RPG developed by FromSoftware and published by Bandai Namco Entertainment. Directed b\n"
     ]
    }
   ],
   "source": [
    "file_content = load_file_content(file_path)\n",
    "print(file_content[:min(150, len(file_content))])"
   ]
  },
  {
   "cell_type": "code",
   "execution_count": 4,
   "id": "5818f53a-2aa7-4697-9e0a-9696e830eb69",
   "metadata": {},
   "outputs": [],
   "source": [
    "from langchain.text_splitter import RecursiveCharacterTextSplitter\n",
    "text_splitter = RecursiveCharacterTextSplitter(chunk_size=500, chunk_overlap=100)"
   ]
  },
  {
   "cell_type": "code",
   "execution_count": 5,
   "id": "82a3396d-4046-42f9-9664-6487115c08fe",
   "metadata": {},
   "outputs": [],
   "source": [
    "chunks = text_splitter.split_text(file_content)"
   ]
  },
  {
   "cell_type": "code",
   "execution_count": 6,
   "id": "a253f17d-aafd-4199-9eb9-98311ef515a8",
   "metadata": {},
   "outputs": [
    {
     "name": "stdout",
     "output_type": "stream",
     "text": [
      "[365, 442, 488, 485, 388, 399, 435, 326, 316, 363, 285, 257, 296, 332, 414, 420, 477, 329, 261, 430, 392]\n"
     ]
    },
    {
     "data": {
      "text/plain": [
       "'gameplay FromSoftware is renowned for with a vast, open-world experience.\\n\\n---\\n\\n## Story and Setting'"
      ]
     },
     "metadata": {},
     "output_type": "display_data"
    },
    {
     "name": "stdout",
     "output_type": "stream",
     "text": [
      "<SEPARATOR>\n"
     ]
    },
    {
     "data": {
      "text/plain": [
       "'---\\n\\n## Story and Setting\\n\\n**Elden Ring** is set in the mystical world of the Lands Between, where t'"
      ]
     },
     "metadata": {},
     "output_type": "display_data"
    }
   ],
   "source": [
    "# debug sliced chunks\n",
    "print([len(chunk) for chunk in chunks])\n",
    "if len(chunks) >= 2:\n",
    "    display(chunks[0][-100:])\n",
    "    print('<SEPARATOR>')\n",
    "    display(chunks[1][:100])"
   ]
  },
  {
   "cell_type": "markdown",
   "id": "a8370baa-4126-4dc8-92f3-b2cc0e351322",
   "metadata": {},
   "source": [
    "### Embed Text & Store to Vector DB"
   ]
  },
  {
   "cell_type": "markdown",
   "id": "49a75d36-309f-47fa-8b8c-ec3214407e0b",
   "metadata": {},
   "source": [
    "Embed the chunks using an embedding model."
   ]
  },
  {
   "cell_type": "code",
   "execution_count": 7,
   "id": "21e3f8bd-de53-4b0c-99b9-b9c223d5b6de",
   "metadata": {},
   "outputs": [
    {
     "name": "stderr",
     "output_type": "stream",
     "text": [
      "/root/miniconda3/envs/edge-ai/lib/python3.12/site-packages/tqdm/auto.py:21: TqdmWarning: IProgress not found. Please update jupyter and ipywidgets. See https://ipywidgets.readthedocs.io/en/stable/user_install.html\n",
      "  from .autonotebook import tqdm as notebook_tqdm\n"
     ]
    }
   ],
   "source": [
    "from pymilvus import model\n",
    "\n",
    "# default: DefaultEmbeddingFunction = dense.onnx.OnnxEmbeddingFunction\n",
    "embedding_fn = model.DefaultEmbeddingFunction()\n",
    "\n",
    "def embed_txts(txts: list[str]) -> list:\n",
    "    return embedding_fn.encode_documents(txts)"
   ]
  },
  {
   "cell_type": "code",
   "execution_count": 8,
   "id": "61962093-ce00-435e-aad1-6bb21d93c223",
   "metadata": {},
   "outputs": [],
   "source": [
    "embeddings = embed_txts(chunks)"
   ]
  },
  {
   "cell_type": "code",
   "execution_count": 9,
   "id": "10e5dbea-7736-44f4-ad01-a373a7df4fa7",
   "metadata": {},
   "outputs": [
    {
     "name": "stdout",
     "output_type": "stream",
     "text": [
      "<class 'list'>\n",
      "<class 'numpy.ndarray'>\n",
      "(768,)\n"
     ]
    },
    {
     "data": {
      "text/plain": [
       "768"
      ]
     },
     "execution_count": 9,
     "metadata": {},
     "output_type": "execute_result"
    }
   ],
   "source": [
    "print(type(embeddings))\n",
    "print(type(embeddings[0]))\n",
    "print(embeddings[0].shape)\n",
    "embedding_dim_size = embeddings[0].shape[0]\n",
    "embedding_dim_size"
   ]
  },
  {
   "cell_type": "markdown",
   "id": "e6625ff6-b874-486b-8ea6-903f2c606b38",
   "metadata": {},
   "source": [
    "Now create a vector DB and store the embeddings as well as the original chunks."
   ]
  },
  {
   "cell_type": "code",
   "execution_count": 10,
   "id": "0df0ad0f-88e2-40fe-b9eb-e1ce211e9ff2",
   "metadata": {},
   "outputs": [],
   "source": [
    "from pymilvus import MilvusClient\n",
    "\n",
    "milvus_client = MilvusClient('milvus_demo.db')"
   ]
  },
  {
   "cell_type": "code",
   "execution_count": 11,
   "id": "d0b25aef-676c-4bfd-b7b9-feffd6019c7c",
   "metadata": {},
   "outputs": [],
   "source": [
    "demo_collection_name = 'demo_collection'\n",
    "\n",
    "if milvus_client.has_collection(demo_collection_name):\n",
    "    milvus_client.drop_collection(demo_collection_name)\n",
    "milvus_client.create_collection(\n",
    "    collection_name=demo_collection_name,\n",
    "    dimension=embedding_dim_size,\n",
    ")"
   ]
  },
  {
   "cell_type": "code",
   "execution_count": 12,
   "id": "80a62b78-7ed1-4acb-bed9-9754763fc086",
   "metadata": {},
   "outputs": [],
   "source": [
    "insert_data = [\n",
    "    {\n",
    "        'id': i,\n",
    "        'vector': embeddings[i],\n",
    "        'text': chunk,\n",
    "    }\n",
    "    for i, chunk in enumerate(chunks)\n",
    "]"
   ]
  },
  {
   "cell_type": "code",
   "execution_count": 13,
   "id": "778a2cec-76b5-44a4-8b6b-1c8bb0841720",
   "metadata": {},
   "outputs": [
    {
     "data": {
      "text/plain": [
       "{'insert_count': 21, 'ids': [0, 1, 2, 3, 4, 5, 6, 7, 8, 9, 10, 11, 12, 13, 14, 15, 16, 17, 18, 19, 20], 'cost': 0}"
      ]
     },
     "execution_count": 13,
     "metadata": {},
     "output_type": "execute_result"
    }
   ],
   "source": [
    "milvus_client.insert(demo_collection_name, data=insert_data)"
   ]
  },
  {
   "cell_type": "markdown",
   "id": "b41bfa66-a5a2-4551-9816-d2a0c6179da8",
   "metadata": {},
   "source": [
    "## Specify RAG Logic"
   ]
  },
  {
   "cell_type": "code",
   "execution_count": 14,
   "id": "762d0bf4-1bc8-4942-b613-1ef83dce6c42",
   "metadata": {},
   "outputs": [],
   "source": [
    "import ollama\n",
    "\n",
    "ollama_client = ollama.Client(host=ollama_hostname)"
   ]
  },
  {
   "cell_type": "code",
   "execution_count": 15,
   "id": "3510a0f0-5775-40c1-b2f5-9e314ec63a95",
   "metadata": {},
   "outputs": [],
   "source": [
    "prompt_template = \"\"\"\n",
    "I am helping the user to maintain a knowledge base - some local files.\n",
    "I will answer the user's questions strictly based on the content retrieved from the local files.\n",
    "Current question: {question}\n",
    "\"\"\""
   ]
  },
  {
   "cell_type": "code",
   "execution_count": 16,
   "id": "f996b8eb-d97f-4fb1-ac13-5bb9ff66b393",
   "metadata": {},
   "outputs": [],
   "source": [
    "# answer questions using RAG\n",
    "def answer(questions: list[str], stream=False) -> str:\n",
    "    # embed query\n",
    "    embedded_queries = embed_txts(questions)\n",
    "    # retrieve the most relevant document chunks\n",
    "    # https://milvus.io/api-reference/pymilvus/v2.5.x/MilvusClient/Vector/search.md\n",
    "    search_res = milvus_client.search(\n",
    "        demo_collection_name,\n",
    "        anns_field='vector',\n",
    "        data=embedded_queries,\n",
    "        limit=3,\n",
    "        search_params={'metric_type': \"COSINE\"},\n",
    "        output_fields=['text']\n",
    "    )\n",
    "    # format context\n",
    "    combined_docs = []\n",
    "    for cur_q in search_res:\n",
    "        cur_combined_doc = ''\n",
    "        for i, cur_res in enumerate(cur_q):\n",
    "            cur_combined_doc += f'Chunk {i}:\\n{cur_res['entity']['text']}'\n",
    "            if i != len(cur_q) - 1:\n",
    "                cur_combined_doc += '\\n'\n",
    "        combined_docs.append(cur_combined_doc)\n",
    "    # format prompt\n",
    "    enhanced_q = [\n",
    "        f'Relevant text chunks retrieved from the vector DB:\\n{cur_doc}\\nAnswer this question: {questions[q_i]}'\n",
    "        for q_i, cur_doc in enumerate(combined_docs)\n",
    "    ]\n",
    "    formatted_prompts = [prompt_template.format(question=cur_x_q) for cur_x_q in enhanced_q]\n",
    "    # execute\n",
    "    answers = []\n",
    "    for cur_prompt in formatted_prompts:\n",
    "        print('===== QUESTION =====')\n",
    "        print(cur_prompt)\n",
    "        print('===== GENERATE =====')\n",
    "        resp = ollama_client.generate(model=llm_name, prompt=cur_prompt, stream=stream)\n",
    "        cur_answer = ''\n",
    "        if stream:\n",
    "            for chunk in resp:\n",
    "                cur_answer += chunk.response\n",
    "                print(chunk.response, end='', flush=True)\n",
    "        else:\n",
    "            cur_answer = resp.response\n",
    "            print(cur_answer)\n",
    "        answers.append(cur_answer)\n",
    "    return answers"
   ]
  },
  {
   "cell_type": "markdown",
   "id": "2b7082a0-50d8-46bb-977f-fc2c419e5963",
   "metadata": {},
   "source": [
    "## Test"
   ]
  },
  {
   "cell_type": "markdown",
   "id": "8ffaf1fb-e72d-4954-84e0-7890bdbe6e0d",
   "metadata": {},
   "source": [
    "### Test 0"
   ]
  },
  {
   "cell_type": "code",
   "execution_count": 17,
   "id": "2f12963d-3de2-4023-8f7d-9b774f2f2e40",
   "metadata": {},
   "outputs": [
    {
     "name": "stdout",
     "output_type": "stream",
     "text": [
      "===== QUESTION =====\n",
      "\n",
      "I am helping the user to maintain a knowledge base - some local files.\n",
      "I will answer the user's questions strictly based on the content retrieved from the local files.\n",
      "Current question: Relevant text chunks retrieved from the vector DB:\n",
      "Chunk 0:\n",
      "---\n",
      "\n",
      "# Conclusion\n",
      "\n",
      "Elden Ring stands as a monumental achievement in the action RPG genre. Its vast open world, intricate lore, and challenging gameplay offer an unparalleled experience for fans and newcomers alike. Whether you're delving into the lore, mastering combat mechanics, or exploring every nook and cranny of the Lands Between, Elden Ring provides a rich, rewarding adventure that sets a new standard for the genre.\n",
      "\n",
      "---\n",
      "Chunk 1:\n",
      "# Elden Ring: A Comprehensive Guide\n",
      "\n",
      "**Elden Ring** is an action RPG developed by FromSoftware and published by Bandai Namco Entertainment. Directed by Hidetaka Miyazaki, in collaboration with George R. R. Martin, the game blends the intricate lore and challenging gameplay FromSoftware is renowned for with a vast, open-world experience.\n",
      "\n",
      "---\n",
      "\n",
      "## Story and Setting\n",
      "Chunk 2:\n",
      "---\n",
      "\n",
      "## Story and Setting\n",
      "\n",
      "**Elden Ring** is set in the mystical world of the Lands Between, where the Elden Ring, a powerful artifact, has been shattered. Players assume the role of a Tarnished, one of many exiles summoned back to the Lands Between to restore the Elden Ring and become the Elden Lord. The narrative is rich and complex, with each region, character, and item contributing to the overarching lore. \n",
      "\n",
      "---\n",
      "\n",
      "## Gameplay Mechanics\n",
      "Answer this question: What is Elden Ring?\n",
      "\n",
      "===== GENERATE =====\n",
      "Elden Ring is an action RPG developed by FromSoftware and published by Bandai Namco Entertainment. It's directed by Hidatekta Miyazaki, in collaboration with George R. R. Martin, and blends FromSoftware’s signature intricate lore and challenging gameplay with a vast, open-world experience."
     ]
    }
   ],
   "source": [
    "res = answer(['What is Elden Ring?'], stream=True)"
   ]
  },
  {
   "cell_type": "markdown",
   "id": "afb8d43b-1d86-475e-8041-2591e9b90500",
   "metadata": {},
   "source": [
    "## Test 1"
   ]
  },
  {
   "cell_type": "code",
   "execution_count": 18,
   "id": "11467eda-8737-458c-bcff-cfa0d186142d",
   "metadata": {},
   "outputs": [
    {
     "name": "stdout",
     "output_type": "stream",
     "text": [
      "===== QUESTION =====\n",
      "\n",
      "I am helping the user to maintain a knowledge base - some local files.\n",
      "I will answer the user's questions strictly based on the content retrieved from the local files.\n",
      "Current question: Relevant text chunks retrieved from the vector DB:\n",
      "Chunk 0:\n",
      "---\n",
      "\n",
      "## Multiplayer and Online Features\n",
      "\n",
      "**Co-op and PvP:**\n",
      "- **Co-op**: Players can summon others to help with tough areas or bosses, making the game more manageable.\n",
      "- **PvP**: Competitive multiplayer allows players to invade others' worlds, adding an element of risk and excitement.\n",
      "Chunk 1:\n",
      "---\n",
      "\n",
      "## Gameplay Mechanics\n",
      "\n",
      "**Combat and Exploration:**\n",
      "- **Combat**: The combat system in Elden Ring builds on FromSoftware's previous titles, emphasizing timing, strategy, and resource management. Players can choose from a variety of weapons, magic, and abilities to tailor their combat style.\n",
      "- **Exploration**: The open-world design encourages exploration. Players can traverse the Lands Between on foot or horseback, discovering hidden dungeons, powerful enemies, and valuable items.\n",
      "Chunk 2:\n",
      "**Special Features:**\n",
      "- **Spirit Ashes and Summons**: Players can summon spirits to assist in combat, each with unique abilities and roles.\n",
      "- **Mounted Combat**: Fighting on horseback adds a new layer of strategy.\n",
      "- **Multiplayer**: Both cooperative and competitive multiplayer modes are available, allowing players to interact, fight, or assist each other.\n",
      "\n",
      "---\n",
      "\n",
      "## World and Environment\n",
      "Answer this question: Does the game support multiplayer mode?\n",
      "\n",
      "===== GENERATE =====\n",
      "Yes, the game supports multiplayer mode. It offers both cooperative and competitive multiplayer modes, allowing players to interact, fight, or assist each other."
     ]
    }
   ],
   "source": [
    "res = answer(['Does the game support multiplayer mode?'], stream=True)"
   ]
  },
  {
   "cell_type": "markdown",
   "id": "b800fc83-8ed4-48be-bf3a-f9e4e0933604",
   "metadata": {},
   "source": [
    "### Test 2 "
   ]
  },
  {
   "cell_type": "code",
   "execution_count": 19,
   "id": "702ada04-e733-48cb-a154-1a4a59f7ee60",
   "metadata": {},
   "outputs": [
    {
     "name": "stdout",
     "output_type": "stream",
     "text": [
      "===== QUESTION =====\n",
      "\n",
      "I am helping the user to maintain a knowledge base - some local files.\n",
      "I will answer the user's questions strictly based on the content retrieved from the local files.\n",
      "Current question: Relevant text chunks retrieved from the vector DB:\n",
      "Chunk 0:\n",
      "---\n",
      "\n",
      "## Technical and Artistic Aspects\n",
      "\n",
      "**Graphics and Art Style:**\n",
      "- **Visuals**: Stunning graphics that blend gothic and high fantasy elements.\n",
      "- **Art Direction**: A unique art style that enhances the game's atmosphere and storytelling.\n",
      "\n",
      "**Audio:**\n",
      "- **Soundtrack**: Composed by Yuka Kitamura and others, the music enhances the mood and intensity of the game.\n",
      "- **Voice Acting**: High-quality voice acting brings characters and lore to life.\n",
      "\n",
      "---\n",
      "\n",
      "## Development and Release\n",
      "Chunk 1:\n",
      "---\n",
      "\n",
      "## Development and Release\n",
      "\n",
      "**History:**\n",
      "- **Announcement**: First revealed in 2019, developed by FromSoftware and directed by Hidetaka Miyazaki, with world-building by George R. R. Martin.\n",
      "- **Release Date**: Released on February 25, 2022, for PlayStation 4, PlayStation 5, Xbox One, Xbox Series X/S, and Microsoft Windows.\n",
      "Chunk 2:\n",
      "**Special Features:**\n",
      "- **Spirit Ashes and Summons**: Players can summon spirits to assist in combat, each with unique abilities and roles.\n",
      "- **Mounted Combat**: Fighting on horseback adds a new layer of strategy.\n",
      "- **Multiplayer**: Both cooperative and competitive multiplayer modes are available, allowing players to interact, fight, or assist each other.\n",
      "\n",
      "---\n",
      "\n",
      "## World and Environment\n",
      "Answer this question: Who produced the soundtrack for the game?\n",
      "\n",
      "===== GENERATE =====\n",
      "The soundtrack for the game was composed by Yuka Kitamura and others."
     ]
    }
   ],
   "source": [
    "res = answer(['Who produced the soundtrack for the game?'], stream=True)"
   ]
  }
 ],
 "metadata": {
  "kernelspec": {
   "display_name": "Edge AI",
   "language": "python",
   "name": "edge-ai"
  },
  "language_info": {
   "codemirror_mode": {
    "name": "ipython",
    "version": 3
   },
   "file_extension": ".py",
   "mimetype": "text/x-python",
   "name": "python",
   "nbconvert_exporter": "python",
   "pygments_lexer": "ipython3",
   "version": "3.12.7"
  }
 },
 "nbformat": 4,
 "nbformat_minor": 5
}
